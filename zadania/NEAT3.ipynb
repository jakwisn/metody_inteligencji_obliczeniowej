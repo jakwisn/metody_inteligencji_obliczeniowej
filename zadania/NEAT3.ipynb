{
 "cells": [
  {
   "cell_type": "code",
   "execution_count": 1,
   "id": "51ca7fbc",
   "metadata": {},
   "outputs": [],
   "source": [
    "import numpy as np\n",
    "from copy import deepcopy as copy\n",
    "import tqdm\n",
    "#import networkx as nx\n",
    "from numba import jit, prange\n",
    "import pandas as pd\n",
    "import pandas as pd\n",
    "import matplotlib.pyplot as plt\n",
    "from sklearn.preprocessing import OrdinalEncoder\n",
    "import pickle\n",
    "import numba\n",
    "import tensorflow\n",
    "import networkx as nx\n",
    "#Completer.use_jedi = False\n",
    "import multiprocessing as mp\n",
    "\n",
    "\n",
    "# %%\n",
    "@numba.jit(nopython=True)\n",
    "def relu(x):\n",
    "    return max(x, 0)\n",
    "\n",
    "\n",
    "@numba.jit(nopython=True)\n",
    "def tanh(x):\n",
    "    return (np.exp(x) - np.exp(-x)) / (np.exp(x) + np.exp(-x))\n",
    "\n",
    "\n",
    "@numba.jit(nopython=True)\n",
    "def softmax(x):\n",
    "    \"\"\"Compute softmax values for each sets of scores in x.\"\"\"\n",
    "    return np.exp(x) / np.sum(np.exp(x), axis=0)\n",
    "\n",
    "\n",
    "class NodeGene:\n",
    "    def __init__(self, id, type, h=0, bias=np.random.uniform(-1, 1)):\n",
    "        self.h = h\n",
    "        self.type = type\n",
    "        self.id = id\n",
    "        self.bias = bias\n",
    "\n",
    "\n",
    "class ConnectionGene:\n",
    "    def __init__(self, inputNode, outputNode, weight, innovation, enabled=True):\n",
    "        self.enabled = enabled\n",
    "        self.innovation = innovation\n",
    "        self.weight = weight\n",
    "        self.outputNode = outputNode\n",
    "        self.inputNode = inputNode\n",
    "\n",
    "\n",
    "class Specimen:\n",
    "    # generating Phenotype from Genotype\n",
    "\n",
    "    def __init__(self, input_, output, protection=3):\n",
    "        self.id_of_next = output + input_\n",
    "\n",
    "        inputs = [NodeGene(i, 'input') for i in range(input_)]\n",
    "        outputs = [NodeGene(i + len(inputs), 'output', h=1) for i in range(output)]\n",
    "\n",
    "        self.nodes = inputs + outputs\n",
    "        self.protection = protection\n",
    "        self.connections = []\n",
    "        innovation = 0\n",
    "        for i in range(input_):\n",
    "            for j in range(input_, input_ + output):\n",
    "                self.connections.append(ConnectionGene(i, j, np.random.normal(0, 1), innovation))\n",
    "                innovation += 1\n",
    "\n",
    "    def create_new(self):\n",
    "        new_specimen = copy(self)\n",
    "        new_specimen.protection = 3\n",
    "        return new_specimen\n",
    "\n",
    "    def forward(self, input_):\n",
    "\n",
    "        order = [node.h for node in self.nodes]\n",
    "        output = np.array([None] * (len(self.nodes) - len(input_)))\n",
    "        order = np.argsort(order)\n",
    "        values = [0] * len(self.nodes)\n",
    "        values = np.array(values).astype('float32')\n",
    "        # now we are sending the signal\n",
    "        for i, node in enumerate([self.nodes[i] for i in order]):\n",
    "            if node.h == 0:\n",
    "                values[node.id] = input_[node.id]\n",
    "                for connection in self.connections:\n",
    "                    if connection.inputNode == node.id:\n",
    "                        values[connection.outputNode] += relu(values[node.id] * connection.weight + node.bias)\n",
    "\n",
    "            elif node.h > 0 and node.h < 1:\n",
    "\n",
    "                for connection in self.connections:\n",
    "                    values[connection.outputNode] += relu(values[node.id] * connection.weight + node.bias)\n",
    "\n",
    "            elif node.h == 1:\n",
    "                # this is output neuron\n",
    "                output[node.id - len(input_)] = values[node.id]\n",
    "\n",
    "        return output\n",
    "\n",
    "    def return_with_mutated_weight(self, threshold=0.8):\n",
    "        new = copy(self)\n",
    "        for connection in new.connections:\n",
    "            if np.random.uniform(0, 1) < threshold:\n",
    "                connection.weight *= np.random.uniform(-2.5, 2.5)\n",
    "            else:\n",
    "                connection.weight = np.random.normal(0, 1)\n",
    "\n",
    "        return new\n",
    "\n",
    "    def return_with_mutated_bias(self, threshold=0.8):\n",
    "        new = copy(self)\n",
    "        for node in new.nodes:\n",
    "            if np.random.uniform(0, 1) < threshold:\n",
    "                node.bias *= np.random.uniform(-2.5, 2.5)\n",
    "            else:\n",
    "                node.bias = np.random.normal(0, 1)\n",
    "        return new\n",
    "\n",
    "    def accuracy(self, x, y):\n",
    "\n",
    "        res = []\n",
    "        for i in tqdm.trange(len(x)):\n",
    "            res.append(np.argmax(softmax(self.forward(x[i]).astype('float32'))))\n",
    "\n",
    "        return ((res == y) * 1).mean()\n",
    "\n",
    "    def mae(self, x, y):\n",
    "        res = []\n",
    "        for inp in x:\n",
    "            res.append(self.forward(inp))\n",
    "\n",
    "        return np.abs(x - y).mean()\n",
    "\n",
    "\n",
    "def forward_async(specimen: Specimen, input_):\n",
    "    order = [node.h for node in specimen.nodes]\n",
    "    output = np.array([None] * (len(specimen.nodes) - len(input_)))\n",
    "    order = np.argsort(order)\n",
    "    values = [0] * len(specimen.nodes)\n",
    "    values = np.array(values).astype('float32')\n",
    "    # now we are sending the signal\n",
    "    for i, node in enumerate([specimen.nodes[i] for i in order]):\n",
    "        if node.h == 0:\n",
    "            values[node.id] = input_[node.id]\n",
    "            for connection in specimen.connections:\n",
    "                if connection.inputNode == node.id:\n",
    "                    values[connection.outputNode] += relu(values[node.id] * connection.weight + node.bias)\n",
    "\n",
    "        elif node.h > 0 and node.h < 1:\n",
    "\n",
    "            for connection in specimen.connections:\n",
    "                values[connection.outputNode] += relu(values[node.id] * connection.weight + node.bias)\n",
    "\n",
    "        elif node.h == 1:\n",
    "            # this is output neuron\n",
    "            output[node.id - len(input_)] = values[node.id]\n",
    "\n",
    "    return output\n",
    "\n",
    "\n",
    "def global_accuracy(specimen: Specimen, x, y):\n",
    "    results = []\n",
    "\n",
    "    res = []\n",
    "    for i in tqdm.trange(len(x)):\n",
    "        res.append(np.argmax(softmax(specimen.forward(x[i]).astype('float32'))))\n",
    "\n",
    "    return ((res == y) * 1).mean()\n",
    "\n",
    "class NEAT:\n",
    "\n",
    "    def __init__(self, population_number, input_, output):\n",
    "        self.population_number = population_number\n",
    "        self.input = input_\n",
    "        self.output = output\n",
    "        self.innovation = input_ * output\n",
    "        self.connection_innovations = []\n",
    "        self.gen_mean = []\n",
    "\n",
    "    def start(self):\n",
    "        # initialize the population\n",
    "        self.population = [Specimen(self.input, self.output) for i in range(self.population_number)]\n",
    "\n",
    "    def calculate_innovation(self, connection_innovation):\n",
    "\n",
    "        for nodes in self.connection_innovations:\n",
    "            if nodes[0] == connection_innovation:\n",
    "                k = nodes[1]\n",
    "                return [k, k + 1]\n",
    "\n",
    "        # if there was no innovation like this before, than:\n",
    "        self.connection_innovations.append([connection_innovation, self.innovation])\n",
    "        p = self.innovation\n",
    "        self.innovation += 2\n",
    "\n",
    "        return [p, p + 1]\n",
    "\n",
    "    def add_connection(self, network):\n",
    "        new_network = copy(network)\n",
    "        a, b = np.random.choice(network.nodes, 2, replace=False)\n",
    "        does_exist = False\n",
    "\n",
    "        # first search for connection in genes\n",
    "        for connection in new_network.connections:\n",
    "            if a.id == connection.inputNode and b.id == connection.outputNode:\n",
    "                does_exist = True\n",
    "        if a.type != b.type:\n",
    "            if not does_exist:\n",
    "                if a.h < b.h:\n",
    "                    new_network.connections.append(\n",
    "                        ConnectionGene(a.id, b.id, np.random.normal(0, 1.5), self.innovation))\n",
    "                else:\n",
    "                    new_network.connections.append(\n",
    "                        ConnectionGene(b.id, a.id, np.random.normal(0, 1.5), self.innovation))\n",
    "                self.innovation += 1\n",
    "        return new_network\n",
    "\n",
    "    @staticmethod\n",
    "    def find_connection_by_innovation(specimen, innovation):\n",
    "        for connection in specimen.connections:\n",
    "            if connection.innovation == innovation:\n",
    "                return connection\n",
    "\n",
    "    def cross(self, a, b):\n",
    "\n",
    "        child = Specimen(0, 0)\n",
    "        if len(a.nodes) > len(b.nodes):\n",
    "            child.nodes = a.nodes\n",
    "        else:\n",
    "            child.nodes = b.nodes\n",
    "\n",
    "        a_innovations = [x.innovation for x in a.connections]\n",
    "        b_innovations = [x.innovation for x in b.connections]\n",
    "\n",
    "        for innovation_number in range(max(a_innovations) + max(b_innovations) + 1):\n",
    "            if innovation_number in a_innovations:\n",
    "                if innovation_number in b_innovations:\n",
    "                    if np.random.uniform(0, 1) > 0.5:\n",
    "                        new_connection = copy(self.find_connection_by_innovation(a, innovation_number))\n",
    "                    else:\n",
    "                        new_connection = copy(self.find_connection_by_innovation(b, innovation_number))\n",
    "\n",
    "                    child.connections.append(new_connection)\n",
    "                else:\n",
    "                    new_connection = copy(self.find_connection_by_innovation(a, innovation_number))\n",
    "                    child.connections.append(new_connection)\n",
    "            else:\n",
    "                if innovation_number in b_innovations:\n",
    "                    new_connection = copy(self.find_connection_by_innovation(b, innovation_number))\n",
    "                    child.connections.append(new_connection)\n",
    "\n",
    "        return child\n",
    "\n",
    "    def add_node(self, network):\n",
    "        new_network = copy(network)\n",
    "        a = new_network.connections[np.random.choice(len(new_network.connections), 1)[0]]\n",
    "        if a.enabled:\n",
    "\n",
    "            a.enabled = False\n",
    "            higher_node_id = new_network.id_of_next\n",
    "            new_network.id_of_next += 1\n",
    "\n",
    "            height_input = new_network.nodes[a.inputNode].h\n",
    "            height_output = new_network.nodes[a.outputNode].h\n",
    "            h = np.random.uniform(0.7 * height_input + 0.3 * height_output, 0.3 * height_input + 0.7 * height_output)\n",
    "            new_network.nodes.append(NodeGene(higher_node_id, 'hidden', h=h))\n",
    "            innovation = self.calculate_innovation(a.innovation)\n",
    "\n",
    "            new_network.connections.append(\n",
    "                ConnectionGene(a.inputNode, higher_node_id, np.random.uniform(-1, 1), innovation[0]))\n",
    "            new_network.connections.append(\n",
    "                ConnectionGene(higher_node_id, a.outputNode, np.random.uniform(-1, 1), innovation[1]))\n",
    "            return new_network\n",
    "        else:\n",
    "            return network\n",
    "\n",
    "    def start_evolution(self, x, y, epochs=50, to_mutate=0.7, measure='acc'):\n",
    "        best_specimen = None\n",
    "        for i in range(epochs):\n",
    "            nodes_to_mutate = np.random.choice(self.population_number, int(np.ceil(self.population_number * to_mutate)))\n",
    "            nodes_to_mutate = [self.population[i].create_new() for i in nodes_to_mutate]\n",
    "            spec_with_mutated_node = [self.add_node(specimen) for specimen in nodes_to_mutate]\n",
    "            connection_to_mutate = np.random.choice(self.population_number,\n",
    "                                                    int(np.ceil(self.population_number * to_mutate)))\n",
    "            connection_to_mutate = [self.population[i].create_new() for i in connection_to_mutate]\n",
    "            spec_with_mutated_connection = [self.add_connection(specimen) for specimen in connection_to_mutate]\n",
    "            weight_to_mutate = np.random.choice(self.population_number,\n",
    "                                                int(np.ceil(self.population_number * to_mutate)))\n",
    "            weight_to_mutate = [self.population[i].create_new() for i in weight_to_mutate]\n",
    "            spec_with_mutated_weight = [specimen.return_with_mutated_weight() for specimen in weight_to_mutate]\n",
    "            bias_to_mutate = np.random.choice(self.population_number, int(np.ceil(self.population_number * to_mutate)))\n",
    "            bias_to_mutate = [self.population[i].create_new() for i in bias_to_mutate]\n",
    "            spec_with_mutated_bias = [specimen.return_with_mutated_bias() for specimen in bias_to_mutate]\n",
    "\n",
    "            to_cross = np.random.choice(self.population_number, int(np.ceil(self.population_number * to_mutate)),\n",
    "                                        replace=False)\n",
    "            spec_crossed = []\n",
    "            for j in range(0, len(to_cross) - 1, 2):\n",
    "                spec_crossed.append(self.cross(self.population[to_cross[j]], self.population[to_cross[j + 1]]))\n",
    "\n",
    "            new_population = self.population + spec_with_mutated_node + spec_with_mutated_connection + spec_with_mutated_weight + spec_with_mutated_bias + spec_crossed\n",
    "\n",
    "            pool = mp.Pool(mp.cpu_count())\n",
    "\n",
    "            if measure == 'acc':\n",
    "                metrics_for_new_population = [pool.apply(global_accuracy, args=(specimen, x, y)) for specimen in new_population]\n",
    "            else:\n",
    "                metrics_for_new_population = [-specimen.mae(x, y) for specimen in new_population]\n",
    "\n",
    "            pool.close()\n",
    "            best_ = np.argsort(metrics_for_new_population)\n",
    "            best = best_[-self.population_number:]\n",
    "\n",
    "            for spec in new_population:\n",
    "                if spec.protection > 0:\n",
    "                    self.population.append(spec)\n",
    "\n",
    "            for j, spec in enumerate(self.population):\n",
    "                spec.protection -= 1\n",
    "                self.population[j] = spec\n",
    "\n",
    "            self.population = list(np.array(new_population)[best])\n",
    "\n",
    "            pool = mp.Pool(mp.cpu_count())\n",
    "            if measure == 'acc':\n",
    "                self.gen_mean.append(np.mean([pool.apply(global_accuracy, args = (specimen, x, y)) for specimen in self.population]))\n",
    "                print(\n",
    "                    f'iteration: {i}/{epochs}\\nPopulation mean: {self.gen_mean[-1]} \\nPopulation best: {np.max(metrics_for_new_population)}\\n',\n",
    "                    end='')\n",
    "\n",
    "            else:\n",
    "                self.gen_mean.append(np.mean([specimen.mae(x, y) for specimen in self.population]))\n",
    "                print(\n",
    "                    f'iteration: {i}/{epochs}\\nPopulation mean: {self.gen_mean[-1]} \\nPopulation best: {-np.max(metrics_for_new_population)}\\n',\n",
    "                    end='')\n",
    "\n",
    "            pool.close()\n",
    "        pool = mp.Pool(mp.cpu_count())\n",
    "        metrics_for_new_population = [global_accuracy(specimen, x, y) for specimen in self.population]\n",
    "        pool.close()\n",
    "        best = np.argsort(metrics_for_new_population)\n",
    "        self.best = self.population[best[-1]]\n",
    "\n",
    "@jit(parallel=True, forceobj=True)\n",
    "def process_images(data: np.array):\n",
    "    ret = []\n",
    "    for i in prange(len(data)):\n",
    "        mat = data[i].reshape(28, 28)\n",
    "        M, N = mat.shape\n",
    "        K = 2\n",
    "        L = 2\n",
    "\n",
    "        MK = M // K\n",
    "        NL = N // L\n",
    "        p = mat[:MK * K, :NL * L].copy()\n",
    "        p = p.reshape(MK, K, NL, L).copy()\n",
    "        p = p.mean(axis=(1, 3)).copy()\n",
    "\n",
    "        # once more\n",
    "        mat = p\n",
    "        M, N = mat.shape\n",
    "        K = 2\n",
    "        L = 2\n",
    "\n",
    "        MK = M // K\n",
    "        NL = N // L\n",
    "        p = mat[:MK * K, :NL * L].reshape(MK, K, NL, L).max(axis=(1, 3))\n",
    "        p = p[1:-1, 1:-1]\n",
    "\n",
    "        ret.append(p.flatten())\n",
    "\n",
    "    return np.array(ret)\n"
   ]
  },
  {
   "cell_type": "code",
   "execution_count": 2,
   "id": "e9d13c69",
   "metadata": {},
   "outputs": [],
   "source": [
    "import pandas as pd\n",
    "import matplotlib.pyplot as plt\n",
    "from sklearn.preprocessing import OrdinalEncoder"
   ]
  },
  {
   "cell_type": "code",
   "execution_count": 4,
   "id": "71f09892",
   "metadata": {},
   "outputs": [],
   "source": [
    "train_df = pd.read_csv('../data/iris.data', header=None, index_col=0).reset_index()\n",
    "\n",
    "x = np.asarray(train_df.iloc[:,0:4])\n",
    "x = (x - np.mean(x, axis = 0))/np.std(x, axis = 0)\n",
    "\n",
    "y = np.asarray(train_df.iloc[:,4]).reshape(-1, 1)\n",
    "y = OrdinalEncoder().fit_transform(y).astype('int').flatten()\n"
   ]
  },
  {
   "cell_type": "code",
   "execution_count": 5,
   "id": "e62294ec",
   "metadata": {},
   "outputs": [
    {
     "data": {
      "image/png": "[encoded data removed]",
      "text/plain": [
       "<Figure size 432x288 with 1 Axes>"
      ]
     },
     "metadata": {
      "needs_background": "light"
     },
     "output_type": "display_data"
    }
   ],
   "source": [
    "plt.scatter(x[:,0], x[:,2], c=y)\n",
    "plt.show()"
   ]
  },
  {
   "cell_type": "code",
   "execution_count": null,
   "id": "d5cb3352",
   "metadata": {},
   "outputs": [
    {
     "name": "stdout",
     "output_type": "stream",
     "text": [
      "went into the thread\n"
     ]
    }
   ],
   "source": [
    "neat = NEAT(100, 4, 3)\n",
    "neat.start()\n",
    "neat.start_evolution(x[:10], y[:10], epochs=40)"
   ]
  },
  {
   "cell_type": "code",
   "execution_count": 18,
   "id": "4aaf10e4",
   "metadata": {},
   "outputs": [
    {
     "data": {
      "text/plain": [
       "Text(0, 0.5, 'mean accuracy of population')"
      ]
     },
     "execution_count": 18,
     "metadata": {},
     "output_type": "execute_result"
    },
    {
     "data": {
      "image/png": "[encoded data removed]",
      "text/plain": [
       "<Figure size 432x288 with 1 Axes>"
      ]
     },
     "metadata": {
      "needs_background": "light"
     },
     "output_type": "display_data"
    }
   ],
   "source": [
    "plt.plot(neat.gen_mean)\n",
    "plt.xlabel('epochs')\n",
    "plt.ylabel('mean accuracy of population')"
   ]
  },
  {
   "cell_type": "code",
   "execution_count": 21,
   "id": "0dcce211",
   "metadata": {},
   "outputs": [
    {
     "data": {
      "image/png": "[encoded data removed]",
      "text/plain": [
       "<Figure size 432x288 with 1 Axes>"
      ]
     },
     "metadata": {},
     "output_type": "display_data"
    }
   ],
   "source": [
    "cons = [(neat.best.connections[i].inputNode, neat.best.connections[i].outputNode) for i in range(len(neat.best.connections))]\n",
    "ids = [neat.best.nodes[i].id for i in range(len(neat.best.nodes))]\n",
    "\n",
    "G = nx.Graph()\n",
    "G.add_edges_from(cons)\n",
    "color_map = []\n",
    "for i, node in enumerate(G):\n",
    "    if neat.best.nodes[i].type == 'input':\n",
    "        color_map.append('blue')\n",
    "    elif  neat.best.nodes[i].type == 'output':\n",
    "        color_map.append('green')\n",
    "    else: \n",
    "        color_map.append('red')\n",
    "nx.draw_networkx(G, node_color= color_map)"
   ]
  },
  {
   "cell_type": "markdown",
   "id": "060e8daf",
   "metadata": {},
   "source": [
    "## Adult"
   ]
  },
  {
   "cell_type": "code",
   "execution_count": 2,
   "id": "1a44ceea",
   "metadata": {},
   "outputs": [],
   "source": [
    "adult = pd.read_csv('https://archive.ics.uci.edu/ml/machine-learning-databases/adult/adult.data', header = None)"
   ]
  },
  {
   "cell_type": "code",
   "execution_count": 3,
   "id": "70f6310c",
   "metadata": {},
   "outputs": [
    {
     "data": {
      "text/html": [
       "<div>\n",
       "<style scoped>\n",
       "    .dataframe tbody tr th:only-of-type {\n",
       "        vertical-align: middle;\n",
       "    }\n",
       "\n",
       "    .dataframe tbody tr th {\n",
       "        vertical-align: top;\n",
       "    }\n",
       "\n",
       "    .dataframe thead th {\n",
       "        text-align: right;\n",
       "    }\n",
       "</style>\n",
       "<table border=\"1\" class=\"dataframe\">\n",
       "  <thead>\n",
       "    <tr style=\"text-align: right;\">\n",
       "      <th></th>\n",
       "      <th>0</th>\n",
       "      <th>1</th>\n",
       "      <th>2</th>\n",
       "      <th>3</th>\n",
       "      <th>4</th>\n",
       "      <th>5</th>\n",
       "      <th>6</th>\n",
       "      <th>7</th>\n",
       "      <th>8</th>\n",
       "      <th>9</th>\n",
       "      <th>10</th>\n",
       "      <th>11</th>\n",
       "      <th>12</th>\n",
       "      <th>13</th>\n",
       "      <th>14</th>\n",
       "    </tr>\n",
       "  </thead>\n",
       "  <tbody>\n",
       "    <tr>\n",
       "      <th>0</th>\n",
       "      <td>39</td>\n",
       "      <td>State-gov</td>\n",
       "      <td>77516</td>\n",
       "      <td>Bachelors</td>\n",
       "      <td>13</td>\n",
       "      <td>Never-married</td>\n",
       "      <td>Adm-clerical</td>\n",
       "      <td>Not-in-family</td>\n",
       "      <td>White</td>\n",
       "      <td>Male</td>\n",
       "      <td>2174</td>\n",
       "      <td>0</td>\n",
       "      <td>40</td>\n",
       "      <td>United-States</td>\n",
       "      <td>&lt;=50K</td>\n",
       "    </tr>\n",
       "    <tr>\n",
       "      <th>1</th>\n",
       "      <td>50</td>\n",
       "      <td>Self-emp-not-inc</td>\n",
       "      <td>83311</td>\n",
       "      <td>Bachelors</td>\n",
       "      <td>13</td>\n",
       "      <td>Married-civ-spouse</td>\n",
       "      <td>Exec-managerial</td>\n",
       "      <td>Husband</td>\n",
       "      <td>White</td>\n",
       "      <td>Male</td>\n",
       "      <td>0</td>\n",
       "      <td>0</td>\n",
       "      <td>13</td>\n",
       "      <td>United-States</td>\n",
       "      <td>&lt;=50K</td>\n",
       "    </tr>\n",
       "    <tr>\n",
       "      <th>2</th>\n",
       "      <td>38</td>\n",
       "      <td>Private</td>\n",
       "      <td>215646</td>\n",
       "      <td>HS-grad</td>\n",
       "      <td>9</td>\n",
       "      <td>Divorced</td>\n",
       "      <td>Handlers-cleaners</td>\n",
       "      <td>Not-in-family</td>\n",
       "      <td>White</td>\n",
       "      <td>Male</td>\n",
       "      <td>0</td>\n",
       "      <td>0</td>\n",
       "      <td>40</td>\n",
       "      <td>United-States</td>\n",
       "      <td>&lt;=50K</td>\n",
       "    </tr>\n",
       "    <tr>\n",
       "      <th>3</th>\n",
       "      <td>53</td>\n",
       "      <td>Private</td>\n",
       "      <td>234721</td>\n",
       "      <td>11th</td>\n",
       "      <td>7</td>\n",
       "      <td>Married-civ-spouse</td>\n",
       "      <td>Handlers-cleaners</td>\n",
       "      <td>Husband</td>\n",
       "      <td>Black</td>\n",
       "      <td>Male</td>\n",
       "      <td>0</td>\n",
       "      <td>0</td>\n",
       "      <td>40</td>\n",
       "      <td>United-States</td>\n",
       "      <td>&lt;=50K</td>\n",
       "    </tr>\n",
       "    <tr>\n",
       "      <th>4</th>\n",
       "      <td>28</td>\n",
       "      <td>Private</td>\n",
       "      <td>338409</td>\n",
       "      <td>Bachelors</td>\n",
       "      <td>13</td>\n",
       "      <td>Married-civ-spouse</td>\n",
       "      <td>Prof-specialty</td>\n",
       "      <td>Wife</td>\n",
       "      <td>Black</td>\n",
       "      <td>Female</td>\n",
       "      <td>0</td>\n",
       "      <td>0</td>\n",
       "      <td>40</td>\n",
       "      <td>Cuba</td>\n",
       "      <td>&lt;=50K</td>\n",
       "    </tr>\n",
       "    <tr>\n",
       "      <th>...</th>\n",
       "      <td>...</td>\n",
       "      <td>...</td>\n",
       "      <td>...</td>\n",
       "      <td>...</td>\n",
       "      <td>...</td>\n",
       "      <td>...</td>\n",
       "      <td>...</td>\n",
       "      <td>...</td>\n",
       "      <td>...</td>\n",
       "      <td>...</td>\n",
       "      <td>...</td>\n",
       "      <td>...</td>\n",
       "      <td>...</td>\n",
       "      <td>...</td>\n",
       "      <td>...</td>\n",
       "    </tr>\n",
       "    <tr>\n",
       "      <th>32556</th>\n",
       "      <td>27</td>\n",
       "      <td>Private</td>\n",
       "      <td>257302</td>\n",
       "      <td>Assoc-acdm</td>\n",
       "      <td>12</td>\n",
       "      <td>Married-civ-spouse</td>\n",
       "      <td>Tech-support</td>\n",
       "      <td>Wife</td>\n",
       "      <td>White</td>\n",
       "      <td>Female</td>\n",
       "      <td>0</td>\n",
       "      <td>0</td>\n",
       "      <td>38</td>\n",
       "      <td>United-States</td>\n",
       "      <td>&lt;=50K</td>\n",
       "    </tr>\n",
       "    <tr>\n",
       "      <th>32557</th>\n",
       "      <td>40</td>\n",
       "      <td>Private</td>\n",
       "      <td>154374</td>\n",
       "      <td>HS-grad</td>\n",
       "      <td>9</td>\n",
       "      <td>Married-civ-spouse</td>\n",
       "      <td>Machine-op-inspct</td>\n",
       "      <td>Husband</td>\n",
       "      <td>White</td>\n",
       "      <td>Male</td>\n",
       "      <td>0</td>\n",
       "      <td>0</td>\n",
       "      <td>40</td>\n",
       "      <td>United-States</td>\n",
       "      <td>&gt;50K</td>\n",
       "    </tr>\n",
       "    <tr>\n",
       "      <th>32558</th>\n",
       "      <td>58</td>\n",
       "      <td>Private</td>\n",
       "      <td>151910</td>\n",
       "      <td>HS-grad</td>\n",
       "      <td>9</td>\n",
       "      <td>Widowed</td>\n",
       "      <td>Adm-clerical</td>\n",
       "      <td>Unmarried</td>\n",
       "      <td>White</td>\n",
       "      <td>Female</td>\n",
       "      <td>0</td>\n",
       "      <td>0</td>\n",
       "      <td>40</td>\n",
       "      <td>United-States</td>\n",
       "      <td>&lt;=50K</td>\n",
       "    </tr>\n",
       "    <tr>\n",
       "      <th>32559</th>\n",
       "      <td>22</td>\n",
       "      <td>Private</td>\n",
       "      <td>201490</td>\n",
       "      <td>HS-grad</td>\n",
       "      <td>9</td>\n",
       "      <td>Never-married</td>\n",
       "      <td>Adm-clerical</td>\n",
       "      <td>Own-child</td>\n",
       "      <td>White</td>\n",
       "      <td>Male</td>\n",
       "      <td>0</td>\n",
       "      <td>0</td>\n",
       "      <td>20</td>\n",
       "      <td>United-States</td>\n",
       "      <td>&lt;=50K</td>\n",
       "    </tr>\n",
       "    <tr>\n",
       "      <th>32560</th>\n",
       "      <td>52</td>\n",
       "      <td>Self-emp-inc</td>\n",
       "      <td>287927</td>\n",
       "      <td>HS-grad</td>\n",
       "      <td>9</td>\n",
       "      <td>Married-civ-spouse</td>\n",
       "      <td>Exec-managerial</td>\n",
       "      <td>Wife</td>\n",
       "      <td>White</td>\n",
       "      <td>Female</td>\n",
       "      <td>15024</td>\n",
       "      <td>0</td>\n",
       "      <td>40</td>\n",
       "      <td>United-States</td>\n",
       "      <td>&gt;50K</td>\n",
       "    </tr>\n",
       "  </tbody>\n",
       "</table>\n",
       "<p>32561 rows × 15 columns</p>\n",
       "</div>"
      ],
      "text/plain": [
       "       0                  1       2            3   4                    5   \\\n",
       "0      39          State-gov   77516    Bachelors  13        Never-married   \n",
       "1      50   Self-emp-not-inc   83311    Bachelors  13   Married-civ-spouse   \n",
       "2      38            Private  215646      HS-grad   9             Divorced   \n",
       "3      53            Private  234721         11th   7   Married-civ-spouse   \n",
       "4      28            Private  338409    Bachelors  13   Married-civ-spouse   \n",
       "...    ..                ...     ...          ...  ..                  ...   \n",
       "32556  27            Private  257302   Assoc-acdm  12   Married-civ-spouse   \n",
       "32557  40            Private  154374      HS-grad   9   Married-civ-spouse   \n",
       "32558  58            Private  151910      HS-grad   9              Widowed   \n",
       "32559  22            Private  201490      HS-grad   9        Never-married   \n",
       "32560  52       Self-emp-inc  287927      HS-grad   9   Married-civ-spouse   \n",
       "\n",
       "                       6               7       8        9      10  11  12  \\\n",
       "0            Adm-clerical   Not-in-family   White     Male   2174   0  40   \n",
       "1         Exec-managerial         Husband   White     Male      0   0  13   \n",
       "2       Handlers-cleaners   Not-in-family   White     Male      0   0  40   \n",
       "3       Handlers-cleaners         Husband   Black     Male      0   0  40   \n",
       "4          Prof-specialty            Wife   Black   Female      0   0  40   \n",
       "...                   ...             ...     ...      ...    ...  ..  ..   \n",
       "32556        Tech-support            Wife   White   Female      0   0  38   \n",
       "32557   Machine-op-inspct         Husband   White     Male      0   0  40   \n",
       "32558        Adm-clerical       Unmarried   White   Female      0   0  40   \n",
       "32559        Adm-clerical       Own-child   White     Male      0   0  20   \n",
       "32560     Exec-managerial            Wife   White   Female  15024   0  40   \n",
       "\n",
       "                   13      14  \n",
       "0       United-States   <=50K  \n",
       "1       United-States   <=50K  \n",
       "2       United-States   <=50K  \n",
       "3       United-States   <=50K  \n",
       "4                Cuba   <=50K  \n",
       "...               ...     ...  \n",
       "32556   United-States   <=50K  \n",
       "32557   United-States    >50K  \n",
       "32558   United-States   <=50K  \n",
       "32559   United-States   <=50K  \n",
       "32560   United-States    >50K  \n",
       "\n",
       "[32561 rows x 15 columns]"
      ]
     },
     "execution_count": 3,
     "metadata": {},
     "output_type": "execute_result"
    }
   ],
   "source": [
    "adult"
   ]
  },
  {
   "cell_type": "code",
   "execution_count": 4,
   "id": "24157850",
   "metadata": {},
   "outputs": [
    {
     "name": "stdout",
     "output_type": "stream",
     "text": [
      "started training\n"
     ]
    }
   ],
   "source": [
    "adult = pd.read_csv('https://archive.ics.uci.edu/ml/machine-learning-databases/adult/adult.data', header=None)\n",
    "\n",
    "from sklearn.compose import ColumnTransformer\n",
    "from sklearn.pipeline import Pipeline\n",
    "from sklearn.preprocessing import OneHotEncoder, StandardScaler\n",
    "from sklearn.model_selection import train_test_split\n",
    "\n",
    "categorical_features = [7, 8, 9]\n",
    "categorical_transformer = Pipeline(steps=[\n",
    "    ('onehot', OneHotEncoder(handle_unknown='ignore'))\n",
    "])\n",
    "\n",
    "numerical_features = [0, 2, 4, 10, 11, 12]\n",
    "numerical_transformer = Pipeline(steps=[\n",
    "    ('scale', StandardScaler())\n",
    "])\n",
    "\n",
    "preprocessor = ColumnTransformer(transformers=[\n",
    "    ('cat', categorical_transformer, categorical_features),\n",
    "    ('num', numerical_transformer, numerical_features)\n",
    "])\n",
    "\n",
    "x = preprocessor.fit_transform(adult)\n",
    "y = OrdinalEncoder().fit_transform(np.array(adult[14]).reshape(-1, 1)).flatten()\n",
    "\n",
    "indices = np.random.permutation(np.arange(len(y)))\n",
    "x = x[indices]\n",
    "y = y[indices]\n",
    "\n",
    "print('started training')\n",
    "#neat = NEAT(100, 19, 2)\n",
    "#neat.start()\n",
    "#neat.start_evolution(x[:3000], y[:3000], epochs=40)"
   ]
  },
  {
   "cell_type": "markdown",
   "id": "fdbccc62",
   "metadata": {},
   "source": [
    "Niestety tutaj z było już potrzebne zrównoleglanie i musiałem zrobić to w pycharmie. Wczytamy więc zapiklowany obiekt."
   ]
  },
  {
   "cell_type": "code",
   "execution_count": 2,
   "id": "1ad43ffd",
   "metadata": {},
   "outputs": [],
   "source": [
    "#neat = NEAT(100, 19, 2)\n",
    "#neat.start()\n",
    "#neat.start_evolution(X[:3000, :], y[:3000].flatten(), epochs=40)"
   ]
  },
  {
   "cell_type": "code",
   "execution_count": 5,
   "id": "f3f3451e",
   "metadata": {},
   "outputs": [],
   "source": [
    "with open('adult.pkl', 'rb') as ogorek:\n",
    "    neat = pickle.load(ogorek)"
   ]
  },
  {
   "cell_type": "code",
   "execution_count": 6,
   "id": "dadce21c",
   "metadata": {},
   "outputs": [
    {
     "data": {
      "text/plain": [
       "Text(0, 0.5, 'mean accuracy of population')"
      ]
     },
     "execution_count": 6,
     "metadata": {},
     "output_type": "execute_result"
    },
    {
     "data": {
      "image/png": "[encoded data removed]",
      "text/plain": [
       "<Figure size 432x288 with 1 Axes>"
      ]
     },
     "metadata": {
      "needs_background": "light"
     },
     "output_type": "display_data"
    }
   ],
   "source": [
    "plt.plot(neat.gen_mean)\n",
    "plt.xlabel('epochs')\n",
    "plt.ylabel('mean accuracy of population')"
   ]
  },
  {
   "cell_type": "code",
   "execution_count": 7,
   "id": "c04cd94c",
   "metadata": {},
   "outputs": [
    {
     "name": "stderr",
     "output_type": "stream",
     "text": [
      "100%|██████████████████████████████████████████████████████████████████████████| 32561/32561 [00:10<00:00, 3061.94it/s]\n"
     ]
    },
    {
     "data": {
      "text/plain": [
       "0.8372592979331102"
      ]
     },
     "execution_count": 7,
     "metadata": {},
     "output_type": "execute_result"
    }
   ],
   "source": [
    "neat.best.accuracy(x, y)"
   ]
  },
  {
   "cell_type": "markdown",
   "id": "e8bdec45",
   "metadata": {},
   "source": [
    "## MNIST"
   ]
  },
  {
   "cell_type": "code",
   "execution_count": 8,
   "id": "40d77623",
   "metadata": {},
   "outputs": [],
   "source": [
    "import tensorflow as tf\n",
    "data = tf.keras.datasets.mnist.load_data(path=\"mnist.npz\")"
   ]
  },
  {
   "cell_type": "code",
   "execution_count": 9,
   "id": "f068cd22",
   "metadata": {},
   "outputs": [],
   "source": [
    "x = data[0][0]\n",
    "y = data[0][1]\n",
    "x = x.reshape(x.shape[0], x.shape[1] * x.shape[2])\n",
    "\n",
    "x5 = x[np.where(y == 5)[0]]\n",
    "y5 = y[np.where(y == 5)[0]]\n",
    "xnot5 = x[np.where(y != 5)[0]]\n",
    "ynot5 = y[np.where(y != 5)[0]]\n",
    "\n",
    "indices = np.random.choice(np.arange(len(xnot5)), x5.shape[0], replace=False, )\n",
    "xnot5 = xnot5[indices]\n",
    "ynot5 = ynot5[indices]\n",
    "\n",
    "x = np.append(x5, xnot5, axis=0)\n",
    "y = np.append(y5, ynot5)\n",
    "\n",
    "indices = np.random.permutation(np.arange(len(x)))\n",
    "x = x[indices]\n",
    "y = y[indices]\n",
    "\n",
    "y[y != 5] = 0\n",
    "y[y == 5] = 1\n",
    "\n",
    "x = x/ 255"
   ]
  },
  {
   "cell_type": "code",
   "execution_count": 12,
   "id": "6a4a032f",
   "metadata": {},
   "outputs": [],
   "source": [
    "@jit(parallel=True, forceobj=True)\n",
    "def process_images(data: np.array):\n",
    "    ret = []\n",
    "    for i in prange(len(data)):\n",
    "    \n",
    "        mat = data[i].reshape(28,28)\n",
    "        M, N = mat.shape\n",
    "        K = 2\n",
    "        L = 2\n",
    "\n",
    "        MK = M // K\n",
    "        NL = N // L\n",
    "        p = mat[:MK*K, :NL*L].copy()\n",
    "        p = p.reshape(MK, K, NL, L).copy()\n",
    "        p = p.mean(axis=(1, 3)).copy()\n",
    "\n",
    "        # once more\n",
    "        mat = p\n",
    "        M, N = mat.shape\n",
    "        K = 2\n",
    "        L = 2\n",
    "\n",
    "        MK = M // K\n",
    "        NL = N // L\n",
    "        p = mat[:MK*K, :NL*L].reshape(MK, K, NL, L).max(axis=(1, 3))\n",
    "        p = p[1:-1, 1:-1]\n",
    "\n",
    "        ret.append(p.flatten())\n",
    "    \n",
    "    return np.array(ret)\n",
    "\n"
   ]
  },
  {
   "cell_type": "markdown",
   "id": "7165f9bf",
   "metadata": {},
   "source": [
    "Obrazek przed processingiem: "
   ]
  },
  {
   "cell_type": "code",
   "execution_count": 19,
   "id": "e035341d",
   "metadata": {},
   "outputs": [],
   "source": [
    "import matplotlib.pyplot as plt"
   ]
  },
  {
   "cell_type": "code",
   "execution_count": 20,
   "id": "9fc3f43e",
   "metadata": {},
   "outputs": [
    {
     "data": {
      "image/png": "[encoded data removed]",
      "text/plain": [
       "<Figure size 432x288 with 1 Axes>"
      ]
     },
     "metadata": {
      "needs_background": "light"
     },
     "output_type": "display_data"
    }
   ],
   "source": [
    "imgplot = plt.imshow(x[0].reshape(28, 28))\n",
    "plt.show()"
   ]
  },
  {
   "cell_type": "markdown",
   "id": "acf10a52",
   "metadata": {},
   "source": [
    "Obrazek po processingu:"
   ]
  },
  {
   "cell_type": "code",
   "execution_count": 13,
   "id": "97b6204f",
   "metadata": {},
   "outputs": [],
   "source": [
    "x_processed = process_images(x)"
   ]
  },
  {
   "cell_type": "code",
   "execution_count": 22,
   "id": "39a4ef45",
   "metadata": {},
   "outputs": [
    {
     "data": {
      "image/png": "[encoded data removed]",
      "text/plain": [
       "<Figure size 432x288 with 1 Axes>"
      ]
     },
     "metadata": {
      "needs_background": "light"
     },
     "output_type": "display_data"
    }
   ],
   "source": [
    "imgplot = plt.imshow(x_processed[0].reshape(5, 5))\n",
    "plt.show()"
   ]
  },
  {
   "cell_type": "markdown",
   "id": "7078f995",
   "metadata": {},
   "source": [
    "Dzięki takiemy processingowi będziemy mieć zdecydowanie mniej wymiarów! Niestety tak samo jak wcześniej, tu też musiałem użyć zrównoleglania. Wczytamy więc zapiklowany obiekt."
   ]
  },
  {
   "cell_type": "code",
   "execution_count": 44,
   "id": "81a64c59",
   "metadata": {},
   "outputs": [
    {
     "data": {
      "text/plain": [
       "<matplotlib.image.AxesImage at 0x22b4801ae20>"
      ]
     },
     "execution_count": 44,
     "metadata": {},
     "output_type": "execute_result"
    },
    {
     "data": {
      "image/png": "[encoded data removed]",
      "text/plain": [
       "<Figure size 432x288 with 2 Axes>"
      ]
     },
     "metadata": {
      "needs_background": "light"
     },
     "output_type": "display_data"
    }
   ],
   "source": [
    "fig, (ax1, ax2) = plt.subplots(1, 2)\n",
    "fig.suptitle('Preprocessing')\n",
    "ax1.imshow(x[0].reshape(28, 28))\n",
    "ax2.imshow(x_processed[0].reshape(5, 5))"
   ]
  },
  {
   "cell_type": "code",
   "execution_count": 38,
   "id": "7817c205",
   "metadata": {},
   "outputs": [],
   "source": [
    "#neat = NEAT(10, 75, 2)\n",
    "#neat.start()\n",
    "#neat.start_evolution(x[:1000, :], y[:1000].flatten(), epochs=10)"
   ]
  },
  {
   "cell_type": "code",
   "execution_count": 10,
   "id": "ebf1cf23",
   "metadata": {},
   "outputs": [],
   "source": [
    "import pickle\n",
    "\n",
    "with open('mnist.pkl', 'rb') as FILE:\n",
    "    neat = pickle.load(FILE)\n",
    "    "
   ]
  },
  {
   "cell_type": "code",
   "execution_count": 11,
   "id": "1a8b100e",
   "metadata": {},
   "outputs": [
    {
     "data": {
      "text/plain": [
       "Text(0, 0.5, 'mean accuracy of population')"
      ]
     },
     "execution_count": 11,
     "metadata": {},
     "output_type": "execute_result"
    },
    {
     "data": {
      "image/png": "[encoded data removed]",
      "text/plain": [
       "<Figure size 432x288 with 1 Axes>"
      ]
     },
     "metadata": {
      "needs_background": "light"
     },
     "output_type": "display_data"
    }
   ],
   "source": [
    "plt.plot(neat.gen_mean)\n",
    "plt.xlabel('epochs')\n",
    "plt.ylabel('mean accuracy of population')"
   ]
  },
  {
   "cell_type": "code",
   "execution_count": 14,
   "id": "fc0cc17d",
   "metadata": {},
   "outputs": [
    {
     "name": "stderr",
     "output_type": "stream",
     "text": [
      "100%|██████████████████████████████████████████████████████████████████████████| 10842/10842 [00:03<00:00, 2714.85it/s]\n"
     ]
    },
    {
     "data": {
      "text/plain": [
       "0.7648035417819591"
      ]
     },
     "execution_count": 14,
     "metadata": {},
     "output_type": "execute_result"
    }
   ],
   "source": [
    "neat.best.accuracy(x_processed, y)"
   ]
  }
 ],
 "metadata": {
  "kernelspec": {
   "display_name": "Python 3",
   "language": "python",
   "name": "python3"
  },
  "language_info": {
   "codemirror_mode": {
    "name": "ipython",
    "version": 3
   },
   "file_extension": ".py",
   "mimetype": "text/x-python",
   "name": "python",
   "nbconvert_exporter": "python",
   "pygments_lexer": "ipython3",
   "version": "3.8.8"
  }
 },
 "nbformat": 4,
 "nbformat_minor": 5
}
