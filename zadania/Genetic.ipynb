{
 "cells": [
  {
   "cell_type": "code",
   "execution_count": 303,
   "metadata": {},
   "outputs": [],
   "source": [
    "import numpy as np \n",
    "import matplotlib.pyplot as plt"
   ]
  },
  {
   "cell_type": "code",
   "execution_count": 350,
   "metadata": {},
   "outputs": [],
   "source": [
    "class Genetic: \n",
    "    \n",
    "    def __init__(self, chromosomes, function, pcross=0.5, pmut = 0.1, ):\n",
    "        \n",
    "        self.chromosomes = chromosomes\n",
    "        self.pcross = pcross \n",
    "        self.pmut = pmut\n",
    "        self.pupulation_number = chromosomes.shape[0]\n",
    "        self.chromosome_size = chromosomes.shape[1]\n",
    "        self.function = function\n",
    "        \n",
    "    def mutate(self, seed = 123): \n",
    "        \n",
    "        chromosomes = np.random.permutation(self.chromosomes)\n",
    "        number_to_mutate = int(np.floor(self.pmut * len(chromosomes)))\n",
    "        if number_to_mutate == 0 : \n",
    "            return \n",
    "        chromosomes_to_mutate = chromosomes[0 : number_to_mutate]\n",
    "        for i in range(len(chromosomes_to_mutate)):\n",
    "            chromosomes_to_mutate[i,np.random.randint(0, self.chromosome_size)] += np.random.normal()\n",
    "            \n",
    "        chromosomes[0 : number_to_mutate] = chromosomes_to_mutate\n",
    "        \n",
    "        self.chromosomes = np.random.permutation(chromosomes)\n",
    "    \n",
    "    @staticmethod\n",
    "    def cross(a,b):\n",
    "        assert len(a) == len(b)\n",
    "        \n",
    "        n = len(a)\n",
    "        split_point = np.random.randint(1,n-1)\n",
    "        first_child  = np.append(a[:split_point], b[split_point:])\n",
    "        second_child = np.append(b[:split_point], a[split_point:])\n",
    "        \n",
    "        return first_child, second_child\n",
    "        \n",
    "    def pick_best(self, chromosomes):\n",
    "        values = np.apply_along_axis(self.function, 1, chromosomes)\n",
    "        probs = np.array([val/sum(values) for val in values])\n",
    "        self.best.append(chromosomes[np.argmax(probs)])\n",
    "        self.mean.append(np.mean(1/values))\n",
    "        choice = np.random.choice(np.arange(len(chromosomes)), size = len(chromosomes), replace = True, p = probs).astype('int')\n",
    "        parents = chromosomes[choice]\n",
    "        \n",
    "        return parents\n",
    "        \n",
    "    def evolution(self, iterations = 100):\n",
    "        self.best = []\n",
    "        self.mean = [] \n",
    "                         \n",
    "        for i in range(iterations):\n",
    "            chromosomes = np.random.permutation(self.chromosomes)\n",
    "            parents = self.pick_best(self.chromosomes)\n",
    "            \n",
    "            children = []\n",
    "            while len(children) < len(chromosomes): \n",
    "                if self.pcross >= np.random.uniform(0,1): \n",
    "                    child1, child2 = self.cross(parents[np.random.randint(len(parents))], parents[np.random.randint(len(parents))])\n",
    "                    children.append(child1)\n",
    "                    children.append(child2)\n",
    "                else: \n",
    "                    children.append(parents[np.random.randint(len(parents))])\n",
    "                \n",
    "            \n",
    "            self.chromosomes = np.array(children[:len(chromosomes)])\n",
    "            self.mutate(self.chromosomes)\n",
    "        nothing = self.pick_best(self.chromosomes)\n",
    "        print('---- evolution ended ----')\n",
    "        print(f'best result {list(self.best[-1])}')\n",
    "        \n",
    "        "
   ]
  },
  {
   "cell_type": "markdown",
   "metadata": {},
   "source": [
    "# x^2+y^2+2z^2 "
   ]
  },
  {
   "cell_type": "code",
   "execution_count": 355,
   "metadata": {},
   "outputs": [],
   "source": [
    "def func(a):\n",
    "    x = a[0]\n",
    "    y = a[1]\n",
    "    z = a[2]\n",
    "    return 1/(x**2 + y**2 + 2*z**2)"
   ]
  },
  {
   "cell_type": "code",
   "execution_count": 356,
   "metadata": {},
   "outputs": [],
   "source": [
    "chromosomes = np.random.uniform(-20, 20, size=(100,3))"
   ]
  },
  {
   "cell_type": "code",
   "execution_count": 357,
   "metadata": {},
   "outputs": [],
   "source": [
    "gen = Genetic(chromosomes, func, 13)"
   ]
  },
  {
   "cell_type": "code",
   "execution_count": 358,
   "metadata": {},
   "outputs": [
    {
     "name": "stdout",
     "output_type": "stream",
     "text": [
      "---- evolution ended ----\n",
      "best result [0.13384887585727068, 0.006747910146994135, 0.03660510119130464]\n"
     ]
    }
   ],
   "source": [
    "gen.evolution(30) # 30 iteracji "
   ]
  },
  {
   "cell_type": "code",
   "execution_count": 359,
   "metadata": {},
   "outputs": [
    {
     "data": {
      "text/plain": [
       "[<matplotlib.lines.Line2D at 0x7fb8f63ce670>]"
      ]
     },
     "execution_count": 359,
     "metadata": {},
     "output_type": "execute_result"
    },
    {
     "data": {
      "image/png": "[encoded data removed]",
      "text/plain": [
       "<Figure size 432x288 with 1 Axes>"
      ]
     },
     "metadata": {
      "needs_background": "light"
     },
     "output_type": "display_data"
    }
   ],
   "source": [
    "plt.plot(gen.mean) # wartość funkcji dla chromosomów w poszczególnych iteracjach"
   ]
  },
  {
   "cell_type": "markdown",
   "metadata": {},
   "source": [
    "Najlepsza wartość chromosomu to: "
   ]
  },
  {
   "cell_type": "code",
   "execution_count": 360,
   "metadata": {},
   "outputs": [
    {
     "data": {
      "text/plain": [
       "array([0.13384888, 0.00674791, 0.0366051 ])"
      ]
     },
     "execution_count": 360,
     "metadata": {},
     "output_type": "execute_result"
    }
   ],
   "source": [
    "gen.best[-1]"
   ]
  },
  {
   "cell_type": "markdown",
   "metadata": {},
   "source": [
    "Co jest bardzo bliskie 0, gdzie faktycznie jest minimum. Co by się jednak stało, gdyby zaczynać w kompletnie innym miejscu? "
   ]
  },
  {
   "cell_type": "code",
   "execution_count": 362,
   "metadata": {},
   "outputs": [
    {
     "name": "stdout",
     "output_type": "stream",
     "text": [
      "---- evolution ended ----\n",
      "best result [6.48230159669954e-05, 0.0006939487405129593, 0.000552514014062921]\n"
     ]
    },
    {
     "data": {
      "text/plain": [
       "array([6.48230160e-05, 6.93948741e-04, 5.52514014e-04])"
      ]
     },
     "execution_count": 362,
     "metadata": {},
     "output_type": "execute_result"
    },
    {
     "data": {
      "image/png": "[encoded data removed]",
      "text/plain": [
       "<Figure size 432x288 with 1 Axes>"
      ]
     },
     "metadata": {
      "needs_background": "light"
     },
     "output_type": "display_data"
    }
   ],
   "source": [
    "chromosomes = np.random.uniform(-120, -80, size=(100,3))\n",
    "gen = Genetic(chromosomes, func, pcross=0.5, pmut = 0.1, )\n",
    "gen.evolution(6000) \n",
    "plt.plot(gen.mean)\n",
    "gen.best[-1]"
   ]
  },
  {
   "cell_type": "markdown",
   "metadata": {},
   "source": [
    "Jak widać algorytm wyrzucony nawet bardzo daleko od zera bez problemu znalazł minimum."
   ]
  },
  {
   "cell_type": "markdown",
   "metadata": {},
   "source": [
    "# Rastrigin"
   ]
  },
  {
   "cell_type": "code",
   "execution_count": 373,
   "metadata": {},
   "outputs": [],
   "source": [
    "def rastrigin(a):\n",
    "    return 1/(50 + sum(a**2 - 10*np.cos(2*np.pi*a)))"
   ]
  },
  {
   "cell_type": "code",
   "execution_count": 374,
   "metadata": {},
   "outputs": [],
   "source": [
    "chromosomes = np.random.uniform(-20, 20, size=(100,5))"
   ]
  },
  {
   "cell_type": "code",
   "execution_count": 375,
   "metadata": {},
   "outputs": [],
   "source": [
    "gen = Genetic(chromosomes, rastrigin)"
   ]
  },
  {
   "cell_type": "code",
   "execution_count": 376,
   "metadata": {},
   "outputs": [
    {
     "name": "stdout",
     "output_type": "stream",
     "text": [
      "---- evolution ended ----\n",
      "best result [-0.0015145693198789015, 0.0025663930254973266, 0.034271729309591215, 0.03150122909779578, 0.010918160475029609]\n"
     ]
    }
   ],
   "source": [
    "gen.evolution(100)"
   ]
  },
  {
   "cell_type": "code",
   "execution_count": 377,
   "metadata": {},
   "outputs": [
    {
     "data": {
      "text/plain": [
       "[<matplotlib.lines.Line2D at 0x7fb8f61c94c0>]"
      ]
     },
     "execution_count": 377,
     "metadata": {},
     "output_type": "execute_result"
    },
    {
     "data": {
      "image/png": "[encoded data removed]",
      "text/plain": [
       "<Figure size 432x288 with 1 Axes>"
      ]
     },
     "metadata": {
      "needs_background": "light"
     },
     "output_type": "display_data"
    }
   ],
   "source": [
    "plt.plot(gen.mean)"
   ]
  },
  {
   "cell_type": "markdown",
   "metadata": {},
   "source": [
    "Znów algorytm osiągnął osiągnęła zamierzony cel. Tak jak wcześniej sprawdźmy jak radzi sobie gdy jego chromosomy nie będą rozrzucone blisko minimum."
   ]
  },
  {
   "cell_type": "code",
   "execution_count": 384,
   "metadata": {},
   "outputs": [
    {
     "name": "stdout",
     "output_type": "stream",
     "text": [
      "---- evolution ended ----\n",
      "best result [-3.6347515339348936e-05, 0.00040002394359179324, -0.00054642566926342, 0.0004824039283087213, -0.0008026177841176925]\n"
     ]
    },
    {
     "data": {
      "text/plain": [
       "[<matplotlib.lines.Line2D at 0x7fb8f5d43070>]"
      ]
     },
     "execution_count": 384,
     "metadata": {},
     "output_type": "execute_result"
    },
    {
     "data": {
      "image/png": "[encoded data removed]",
      "text/plain": [
       "<Figure size 432x288 with 1 Axes>"
      ]
     },
     "metadata": {
      "needs_background": "light"
     },
     "output_type": "display_data"
    }
   ],
   "source": [
    "chromosomes = np.random.uniform(100, 200, size=(100,5))\n",
    "gen = Genetic(chromosomes, rastrigin, pcross = 0.6, pmut=0.3)\n",
    "gen.evolution(10000)\n",
    "plt.plot(gen.mean)"
   ]
  },
  {
   "cell_type": "markdown",
   "metadata": {},
   "source": [
    "Tak jak wcześniej osiągnęliśmy satysfakcjonujący poziom minimum. "
   ]
  },
  {
   "cell_type": "markdown",
   "metadata": {},
   "source": [
    "# Wnioski\n",
    "Algorytm genetyczny w powyższych zadaniach radzi sobie bardzo dobrze. Ciekawą modyfikacją mogłaby być wielkosć mutacji zależna od iteracji algorytmu, aby początkowo mutacje były duże, a na końcu najmniejsze. Zobaczmy jak to poprawi nasz algorytm."
   ]
  },
  {
   "cell_type": "code",
   "execution_count": 427,
   "metadata": {},
   "outputs": [],
   "source": [
    "class Genetic: \n",
    "    \n",
    "    def __init__(self, chromosomes, function, pcross=0.5, pmut = 0.1, ):\n",
    "        \n",
    "        self.chromosomes = chromosomes\n",
    "        self.pcross = pcross \n",
    "        self.pmut = pmut\n",
    "        self.pupulation_number = chromosomes.shape[0]\n",
    "        self.chromosome_size = chromosomes.shape[1]\n",
    "        self.function = function\n",
    "        \n",
    "    def mutate(self, iteration = 500, seed = 123): \n",
    "        chromosomes = np.random.permutation(self.chromosomes)\n",
    "        number_to_mutate = int(np.floor(self.pmut * len(chromosomes)))\n",
    "        if number_to_mutate == 0 : \n",
    "            return \n",
    "        chromosomes_to_mutate = chromosomes[0 : number_to_mutate]\n",
    "        for i in range(len(chromosomes_to_mutate)):\n",
    "            \n",
    "            chromosomes_to_mutate[i,np.random.randint(0, self.chromosome_size)] += np.random.normal(0,scale = 500/iteration)\n",
    "            \n",
    "        chromosomes[0 : number_to_mutate] = chromosomes_to_mutate\n",
    "        \n",
    "        self.chromosomes = np.random.permutation(chromosomes)\n",
    "    \n",
    "    @staticmethod\n",
    "    def cross(a,b):\n",
    "        assert len(a) == len(b)\n",
    "        \n",
    "        n = len(a)\n",
    "        split_point = np.random.randint(1,n-1)\n",
    "        first_child  = np.append(a[:split_point], b[split_point:])\n",
    "        second_child = np.append(b[:split_point], a[split_point:])\n",
    "        \n",
    "        return first_child, second_child\n",
    "        \n",
    "    def pick_best(self, chromosomes):\n",
    "        values = np.apply_along_axis(self.function, 1, chromosomes)\n",
    "        probs = np.array([val/sum(values) for val in values])\n",
    "        self.best.append(chromosomes[np.argmax(probs)])\n",
    "        self.mean.append(np.mean(1/values))\n",
    "        choice = np.random.choice(np.arange(len(chromosomes)), size = len(chromosomes), replace = True, p = probs).astype('int')\n",
    "        parents = chromosomes[choice]\n",
    "        \n",
    "        return parents\n",
    "        \n",
    "    def evolution(self, iterations = 100):\n",
    "        self.best = []\n",
    "        self.mean = [] \n",
    "                         \n",
    "        for i in range(iterations):\n",
    "            chromosomes = np.random.permutation(self.chromosomes)\n",
    "            parents = self.pick_best(self.chromosomes)\n",
    "            \n",
    "            children = []\n",
    "            while len(children) < len(chromosomes): \n",
    "                if self.pcross >= np.random.uniform(0,1): \n",
    "                    child1, child2 = self.cross(parents[np.random.randint(len(parents))], parents[np.random.randint(len(parents))])\n",
    "                    children.append(child1)\n",
    "                    children.append(child2)\n",
    "                else: \n",
    "                    children.append(parents[np.random.randint(len(parents))])\n",
    "                \n",
    "            self.chromosomes = np.array(children[:len(chromosomes)])\n",
    "            self.mutate(iteration = i+1)\n",
    "        nothing = self.pick_best(self.chromosomes)\n",
    "        print('---- evolution ended ----')\n",
    "        print(f'best result {list(self.best[-1])}')\n",
    "        \n",
    "        "
   ]
  },
  {
   "cell_type": "code",
   "execution_count": 429,
   "metadata": {},
   "outputs": [
    {
     "name": "stdout",
     "output_type": "stream",
     "text": [
      "---- evolution ended ----\n",
      "best result [-0.05557470445227253, 1.9668235220222503, -0.07633667743878769, -0.011954122343764223, 0.07434056979256565]\n"
     ]
    },
    {
     "data": {
      "text/plain": [
       "[<matplotlib.lines.Line2D at 0x7fb8f5e086d0>]"
      ]
     },
     "execution_count": 429,
     "metadata": {},
     "output_type": "execute_result"
    },
    {
     "data": {
      "image/png": "[encoded data removed]",
      "text/plain": [
       "<Figure size 432x288 with 1 Axes>"
      ]
     },
     "metadata": {
      "needs_background": "light"
     },
     "output_type": "display_data"
    }
   ],
   "source": [
    "chromosomes = np.random.uniform(100, 200, size=(100,5))\n",
    "gen = Genetic(chromosomes, rastrigin, pcross = 0.6, pmut=0.3)\n",
    "gen.evolution(100)\n",
    "plt.plot(gen.mean)"
   ]
  },
  {
   "cell_type": "markdown",
   "metadata": {},
   "source": [
    "Ta zmiana poskutkowała. Algorytm zbiegł zdecydowanie szybciej (ponad 10-krotnie)! To usprawnienie może być kluczowe w przypadku cięższych problemów, gdy nie wiemy w jakich okolicach szukać minimum. "
   ]
  }
 ],
 "metadata": {
  "kernelspec": {
   "display_name": "Python 3",
   "language": "python",
   "name": "python3"
  },
  "language_info": {
   "codemirror_mode": {
    "name": "ipython",
    "version": 3
   },
   "file_extension": ".py",
   "mimetype": "text/x-python",
   "name": "python",
   "nbconvert_exporter": "python",
   "pygments_lexer": "ipython3",
   "version": "3.8.3"
  }
 },
 "nbformat": 4,
 "nbformat_minor": 4
}
