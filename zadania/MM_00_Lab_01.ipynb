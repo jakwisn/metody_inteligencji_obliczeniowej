{
 "cells": [
  {
   "cell_type": "markdown",
   "metadata": {
    "pycharm": {
     "name": "#%% md\n"
    }
   },
   "source": [
    "# Lab 01 -  Bazowa implementacja\n",
    "\n",
    "## Agenda\n",
    "\n",
    "- punktowanie\n",
    "- obecność na zajęciach\n",
    "- format przygotowania zadań\n",
    "- zadania wysyłamy na: malkinskim@student.mini.pw.edu.pl\n",
    "\n",
    "---\n",
    "\n",
    "- harmonogram zajęć i terminów: http://pages.mini.pw.edu.pl/~karwowskij/mioad/harmonogram.html\n",
    "- opis zadania: http://pages.mini.pw.edu.pl/~karwowskij/mioad/lab-sieci.html\n",
    "- zbiory danych: https://pages.mini.pw.edu.pl/~karwowskij/mioad/mio1.tar.xz\n",
    "\n",
    "## [Zadanie](http://pages.mini.pw.edu.pl/~karwowskij/mioad/lab-sieci.html#org6058800)\n",
    "Na tych zajęciach należy zaimplementować sieć neuronową typu MLP, w której można ustawić:\n",
    "- liczbę warstw,\n",
    "- liczbę neuronów w każdej z warstw,\n",
    "- wagi poszczególnych połączeń, w tym biasów.\n",
    "\n",
    "Sieć ma używać sigmoidalnej funkcji aktywacji. Na wyjściu dopuszczana jest funkcja liniowa.\n",
    "\n",
    "Implementacja sieci musi być przygotowana w taki sposób, żeby łatwo zmieniać:\n",
    "- architekturę, to znaczy liczbę wejść, wyjść, neuronów w warstwach ukrytych,\n",
    "- funkcję aktywacji.\n",
    "\n",
    "Tak przygotowaną implementację należy następnie wykorzystać do rozwiązania zadania regresji na dostarczonych danych. Parametry sieci należy dobrać ręcznie, tak aby uzyskać możliwie dobrze wyniki na zbiorach danych (zbudować po jednej sieci dla każdego zbioru):\n",
    "- square-simple\n",
    "- steps-large\n",
    "\n",
    "Rozważyć architektury sieci:\n",
    "- jedna warstwa ukryta, 5 neuronów,\n",
    "- jedna warstwa ukryta, 10 neuronów,\n",
    "- dwie warstwy ukryte, po 5 neuronów każda."
   ]
  },
  {
   "cell_type": "code",
   "execution_count": 244,
   "metadata": {},
   "outputs": [],
   "source": [
    "import numpy as np\n",
    "import pandas as pd\n",
    "import seaborn as sns\n",
    "from matplotlib import pyplot as plt\n",
    "from sklearn import metrics\n"
   ]
  },
  {
   "cell_type": "markdown",
   "metadata": {
    "pycharm": {
     "name": "#%% md\n"
    }
   },
   "source": [
    "# Square-simple"
   ]
  },
  {
   "cell_type": "code",
   "execution_count": 245,
   "metadata": {
    "pycharm": {
     "name": "#%%\n"
    }
   },
   "outputs": [
    {
     "data": {
      "text/html": [
       "<div>\n",
       "<style scoped>\n",
       "    .dataframe tbody tr th:only-of-type {\n",
       "        vertical-align: middle;\n",
       "    }\n",
       "\n",
       "    .dataframe tbody tr th {\n",
       "        vertical-align: top;\n",
       "    }\n",
       "\n",
       "    .dataframe thead th {\n",
       "        text-align: right;\n",
       "    }\n",
       "</style>\n",
       "<table border=\"1\" class=\"dataframe\">\n",
       "  <thead>\n",
       "    <tr style=\"text-align: right;\">\n",
       "      <th></th>\n",
       "      <th>x</th>\n",
       "      <th>y</th>\n",
       "    </tr>\n",
       "  </thead>\n",
       "  <tbody>\n",
       "    <tr>\n",
       "      <th>1</th>\n",
       "      <td>-0.171543</td>\n",
       "      <td>-127.351580</td>\n",
       "    </tr>\n",
       "    <tr>\n",
       "      <th>2</th>\n",
       "      <td>0.025201</td>\n",
       "      <td>-129.942844</td>\n",
       "    </tr>\n",
       "    <tr>\n",
       "      <th>3</th>\n",
       "      <td>-1.368991</td>\n",
       "      <td>38.672367</td>\n",
       "    </tr>\n",
       "    <tr>\n",
       "      <th>4</th>\n",
       "      <td>1.907390</td>\n",
       "      <td>197.432191</td>\n",
       "    </tr>\n",
       "    <tr>\n",
       "      <th>5</th>\n",
       "      <td>0.011129</td>\n",
       "      <td>-129.988852</td>\n",
       "    </tr>\n",
       "    <tr>\n",
       "      <th>...</th>\n",
       "      <td>...</td>\n",
       "      <td>...</td>\n",
       "    </tr>\n",
       "    <tr>\n",
       "      <th>96</th>\n",
       "      <td>0.529373</td>\n",
       "      <td>-104.778766</td>\n",
       "    </tr>\n",
       "    <tr>\n",
       "      <th>97</th>\n",
       "      <td>1.374914</td>\n",
       "      <td>40.134900</td>\n",
       "    </tr>\n",
       "    <tr>\n",
       "      <th>98</th>\n",
       "      <td>-1.101985</td>\n",
       "      <td>-20.706642</td>\n",
       "    </tr>\n",
       "    <tr>\n",
       "      <th>99</th>\n",
       "      <td>1.175777</td>\n",
       "      <td>-5.579327</td>\n",
       "    </tr>\n",
       "    <tr>\n",
       "      <th>100</th>\n",
       "      <td>0.682647</td>\n",
       "      <td>-88.059364</td>\n",
       "    </tr>\n",
       "  </tbody>\n",
       "</table>\n",
       "<p>100 rows × 2 columns</p>\n",
       "</div>"
      ],
      "text/plain": [
       "            x           y\n",
       "1   -0.171543 -127.351580\n",
       "2    0.025201 -129.942844\n",
       "3   -1.368991   38.672367\n",
       "4    1.907390  197.432191\n",
       "5    0.011129 -129.988852\n",
       "..        ...         ...\n",
       "96   0.529373 -104.778766\n",
       "97   1.374914   40.134900\n",
       "98  -1.101985  -20.706642\n",
       "99   1.175777   -5.579327\n",
       "100  0.682647  -88.059364\n",
       "\n",
       "[100 rows x 2 columns]"
      ]
     },
     "execution_count": 245,
     "metadata": {},
     "output_type": "execute_result"
    }
   ],
   "source": [
    "train_df = pd.read_csv('../data/square-simple-training.csv', index_col=0)\n",
    "test_df = pd.read_csv('../data/square-simple-test.csv', index_col=0)\n",
    "train_df"
   ]
  },
  {
   "cell_type": "code",
   "execution_count": 246,
   "metadata": {
    "pycharm": {
     "name": "#%%\n"
    }
   },
   "outputs": [],
   "source": [
    "train_df['split'] = 'train'\n",
    "test_df['split'] = 'test'\n",
    "df = pd.concat([train_df, test_df])"
   ]
  },
  {
   "cell_type": "code",
   "execution_count": 247,
   "metadata": {
    "pycharm": {
     "name": "#%%\n"
    }
   },
   "outputs": [
    {
     "data": {
      "text/plain": [
       "Text(0.5, 1.0, 'Train split')"
      ]
     },
     "execution_count": 247,
     "metadata": {},
     "output_type": "execute_result"
    },
    {
     "data": {
      "image/png": "[encoded data removed]",
      "text/plain": [
       "<Figure size 432x288 with 1 Axes>"
      ]
     },
     "metadata": {
      "needs_background": "light"
     },
     "output_type": "display_data"
    }
   ],
   "source": [
    "sns.scatterplot(x='x', y='y', data=train_df)\n",
    "plt.title('Train split', fontsize=20)"
   ]
  },
  {
   "cell_type": "code",
   "execution_count": 248,
   "metadata": {
    "pycharm": {
     "name": "#%%\n"
    }
   },
   "outputs": [
    {
     "data": {
      "text/plain": [
       "Text(0.5, 1.0, 'Test split')"
      ]
     },
     "execution_count": 248,
     "metadata": {},
     "output_type": "execute_result"
    },
    {
     "data": {
      "image/png": "[encoded data removed]",
      "text/plain": [
       "<Figure size 432x288 with 1 Axes>"
      ]
     },
     "metadata": {
      "needs_background": "light"
     },
     "output_type": "display_data"
    }
   ],
   "source": [
    "sns.scatterplot(x='x', y='y', data=test_df)\n",
    "plt.title('Test split', fontsize=20)"
   ]
  },
  {
   "cell_type": "code",
   "execution_count": 249,
   "metadata": {
    "pycharm": {
     "name": "#%%\n"
    }
   },
   "outputs": [
    {
     "data": {
      "text/plain": [
       "<AxesSubplot:xlabel='x', ylabel='y'>"
      ]
     },
     "execution_count": 249,
     "metadata": {},
     "output_type": "execute_result"
    },
    {
     "data": {
      "image/png": "[encoded data removed]",
      "text/plain": [
       "<Figure size 432x288 with 1 Axes>"
      ]
     },
     "metadata": {
      "needs_background": "light"
     },
     "output_type": "display_data"
    }
   ],
   "source": [
    "sns.scatterplot(x='x', y='y', hue='split', data=df)"
   ]
  },
  {
   "cell_type": "code",
   "execution_count": 250,
   "metadata": {
    "pycharm": {
     "name": "#%%\n"
    }
   },
   "outputs": [],
   "source": [
    "def activation_function(x):\n",
    "    return (1 / (1 + np.exp(-x)))\n",
    "\n",
    "\n",
    "class MLP:\n",
    "    def __init__(self, neurons_in_layer, weights, input_size, output_size=1,\n",
    "                 activation_function=activation_function):\n",
    "        \"\"\"\n",
    "        Class will take weights as array and will internally transfer it to list of arrays.\n",
    "        \"\"\"\n",
    "        self.layers = len(neurons_in_layer)\n",
    "        neurons_in_layer.insert(0, input_size)\n",
    "        neurons_in_layer.append(output_size)\n",
    "        self.neurons_in_layer = neurons_in_layer\n",
    "        self.input_size = input_size\n",
    "        total_weights = 0\n",
    "        nodes = []\n",
    "        weights_nn = []\n",
    "        total_weights = 0\n",
    "\n",
    "        for i in range(len(neurons_in_layer) - 1):\n",
    "            weights_to_add = (neurons_in_layer[i]+1) * neurons_in_layer[i + 1]\n",
    "            weights_nn.append(np.array(\n",
    "                weights[total_weights:(total_weights + weights_to_add)]).reshape(neurons_in_layer[i] + 1,\n",
    "                                                                                 neurons_in_layer[i+1]))\n",
    "            total_weights += weights_to_add\n",
    "        self.weights = weights_nn\n",
    "        \n",
    "    def forward(self, X):\n",
    "\n",
    "        current_layer = activation_function(np.c_[np.ones(X.shape[0]), X] @ self.weights[0])\n",
    "        for i in range(1, self.layers):\n",
    "            \n",
    "            current_layer = activation_function(\n",
    "                    np.c_[np.ones(current_layer.shape[0]), current_layer] @ self.weights[i])\n",
    "\n",
    "        current_layer = np.c_[np.ones(current_layer.shape[0]), current_layer] @ self.weights[self.layers]\n",
    "\n",
    "        return current_layer\n",
    "\n"
   ]
  },
  {
   "cell_type": "markdown",
   "metadata": {},
   "source": [
    "Użyję architektury z jedną warstwą oraz 10 neuronami, jendakże dla ułatwienia będą one \"wyłączone\""
   ]
  },
  {
   "cell_type": "code",
   "execution_count": 285,
   "metadata": {
    "pycharm": {
     "name": "#%%\n"
    }
   },
   "outputs": [
    {
     "data": {
      "text/plain": [
       "<matplotlib.collections.PathCollection at 0x7f43047bd2b0>"
      ]
     },
     "execution_count": 285,
     "metadata": {},
     "output_type": "execute_result"
    },
    {
     "data": {
      "image/png": "[encoded data removed]",
      "text/plain": [
       "<Figure size 432x288 with 1 Axes>"
      ]
     },
     "metadata": {
      "needs_background": "light"
     },
     "output_type": "display_data"
    }
   ],
   "source": [
    "mlp = MLP(\n",
    "            input_size=1,\n",
    "            neurons_in_layer=[10],\n",
    "            weights=np.concatenate( (\n",
    "            np.array([2, 1, 0, -1, -2, 0,0,0,0,0]),\n",
    "            np.array([-1, -1, -1, -1, -1, 0,0,0,0,0]),\n",
    "            np.array([650, -900, -200, 0, 200, 900, 0,0,0,0,0])))\n",
    ")\n",
    "\n",
    "train_df = df.query('split == \"train\"')\n",
    "x = train_df['x'].values\n",
    "x = np.expand_dims(x, 1)\n",
    "y_pred = mlp.forward(x)\n",
    "y_pred = np.squeeze(y_pred)\n",
    "y_pred.shape\n",
    "\n",
    "plt.scatter(train_df['x'], train_df['y'], color='green')\n",
    "plt.scatter(train_df['x'], y_pred, color='red')"
   ]
  },
  {
   "cell_type": "code",
   "execution_count": 286,
   "metadata": {
    "pycharm": {
     "name": "#%%\n"
    }
   },
   "outputs": [
    {
     "data": {
      "text/plain": [
       "8.366181727622488"
      ]
     },
     "execution_count": 286,
     "metadata": {},
     "output_type": "execute_result"
    }
   ],
   "source": [
    "metrics.mean_absolute_error(train_df['y'], y_pred)\n"
   ]
  },
  {
   "cell_type": "markdown",
   "metadata": {
    "pycharm": {
     "name": "#%% md\n"
    }
   },
   "source": [
    "# Steps-large\n"
   ]
  },
  {
   "cell_type": "code",
   "execution_count": 287,
   "metadata": {
    "pycharm": {
     "name": "#%%\n"
    }
   },
   "outputs": [
    {
     "data": {
      "text/html": [
       "<div>\n",
       "<style scoped>\n",
       "    .dataframe tbody tr th:only-of-type {\n",
       "        vertical-align: middle;\n",
       "    }\n",
       "\n",
       "    .dataframe tbody tr th {\n",
       "        vertical-align: top;\n",
       "    }\n",
       "\n",
       "    .dataframe thead th {\n",
       "        text-align: right;\n",
       "    }\n",
       "</style>\n",
       "<table border=\"1\" class=\"dataframe\">\n",
       "  <thead>\n",
       "    <tr style=\"text-align: right;\">\n",
       "      <th></th>\n",
       "      <th>x</th>\n",
       "      <th>y</th>\n",
       "    </tr>\n",
       "  </thead>\n",
       "  <tbody>\n",
       "    <tr>\n",
       "      <th>1</th>\n",
       "      <td>-1.481354</td>\n",
       "      <td>-80</td>\n",
       "    </tr>\n",
       "    <tr>\n",
       "      <th>2</th>\n",
       "      <td>1.033264</td>\n",
       "      <td>80</td>\n",
       "    </tr>\n",
       "    <tr>\n",
       "      <th>3</th>\n",
       "      <td>-0.076403</td>\n",
       "      <td>0</td>\n",
       "    </tr>\n",
       "    <tr>\n",
       "      <th>4</th>\n",
       "      <td>-1.419785</td>\n",
       "      <td>-80</td>\n",
       "    </tr>\n",
       "    <tr>\n",
       "      <th>5</th>\n",
       "      <td>-0.108398</td>\n",
       "      <td>0</td>\n",
       "    </tr>\n",
       "    <tr>\n",
       "      <th>...</th>\n",
       "      <td>...</td>\n",
       "      <td>...</td>\n",
       "    </tr>\n",
       "    <tr>\n",
       "      <th>9996</th>\n",
       "      <td>1.281784</td>\n",
       "      <td>80</td>\n",
       "    </tr>\n",
       "    <tr>\n",
       "      <th>9997</th>\n",
       "      <td>0.460459</td>\n",
       "      <td>0</td>\n",
       "    </tr>\n",
       "    <tr>\n",
       "      <th>9998</th>\n",
       "      <td>0.810917</td>\n",
       "      <td>80</td>\n",
       "    </tr>\n",
       "    <tr>\n",
       "      <th>9999</th>\n",
       "      <td>0.644318</td>\n",
       "      <td>80</td>\n",
       "    </tr>\n",
       "    <tr>\n",
       "      <th>10000</th>\n",
       "      <td>0.728816</td>\n",
       "      <td>80</td>\n",
       "    </tr>\n",
       "  </tbody>\n",
       "</table>\n",
       "<p>10000 rows × 2 columns</p>\n",
       "</div>"
      ],
      "text/plain": [
       "              x   y\n",
       "1     -1.481354 -80\n",
       "2      1.033264  80\n",
       "3     -0.076403   0\n",
       "4     -1.419785 -80\n",
       "5     -0.108398   0\n",
       "...         ...  ..\n",
       "9996   1.281784  80\n",
       "9997   0.460459   0\n",
       "9998   0.810917  80\n",
       "9999   0.644318  80\n",
       "10000  0.728816  80\n",
       "\n",
       "[10000 rows x 2 columns]"
      ]
     },
     "execution_count": 287,
     "metadata": {},
     "output_type": "execute_result"
    }
   ],
   "source": [
    "train_df = pd.read_csv('../data/steps-large-training.csv', index_col=0)\n",
    "test_df = pd.read_csv('../data/steps-large-test.csv', index_col=0)\n",
    "train_df"
   ]
  },
  {
   "cell_type": "code",
   "execution_count": 288,
   "metadata": {
    "pycharm": {
     "name": "#%%\n"
    }
   },
   "outputs": [],
   "source": [
    "train_df['split'] = 'train'\n",
    "test_df['split'] = 'test'\n",
    "df = pd.concat([train_df, test_df])"
   ]
  },
  {
   "cell_type": "code",
   "execution_count": 289,
   "metadata": {
    "pycharm": {
     "name": "#%%\n"
    }
   },
   "outputs": [
    {
     "data": {
      "text/plain": [
       "Text(0.5, 1.0, 'Train split')"
      ]
     },
     "execution_count": 289,
     "metadata": {},
     "output_type": "execute_result"
    },
    {
     "data": {
      "image/png": "[encoded data removed]",
      "text/plain": [
       "<Figure size 432x288 with 1 Axes>"
      ]
     },
     "metadata": {
      "needs_background": "light"
     },
     "output_type": "display_data"
    }
   ],
   "source": [
    "sns.scatterplot(x='x', y='y', data=train_df)\n",
    "plt.title('Train split', fontsize=20)"
   ]
  },
  {
   "cell_type": "code",
   "execution_count": 290,
   "metadata": {
    "pycharm": {
     "name": "#%%\n"
    }
   },
   "outputs": [
    {
     "data": {
      "text/plain": [
       "Text(0.5, 1.0, 'Test split')"
      ]
     },
     "execution_count": 290,
     "metadata": {},
     "output_type": "execute_result"
    },
    {
     "data": {
      "image/png": "[encoded data removed]",
      "text/plain": [
       "<Figure size 432x288 with 1 Axes>"
      ]
     },
     "metadata": {
      "needs_background": "light"
     },
     "output_type": "display_data"
    }
   ],
   "source": [
    "sns.scatterplot(x='x', y='y', data=test_df)\n",
    "plt.title('Test split', fontsize=20)"
   ]
  },
  {
   "cell_type": "code",
   "execution_count": 291,
   "metadata": {
    "pycharm": {
     "name": "#%%\n"
    }
   },
   "outputs": [
    {
     "data": {
      "text/plain": [
       "<AxesSubplot:xlabel='x', ylabel='y'>"
      ]
     },
     "execution_count": 291,
     "metadata": {},
     "output_type": "execute_result"
    },
    {
     "data": {
      "image/png": "[encoded data removed]",
      "text/plain": [
       "<Figure size 432x288 with 1 Axes>"
      ]
     },
     "metadata": {
      "needs_background": "light"
     },
     "output_type": "display_data"
    }
   ],
   "source": [
    "sns.scatterplot(x='x', y='y', hue='split', data=df)"
   ]
  },
  {
   "cell_type": "markdown",
   "metadata": {},
   "source": [
    "W tym przypadku zastosuję prostszą architekturę z jedną warstwą ukrytą i 5 neuronami. Ważne tutaj są wysokie wartości dla wag przy `input_layer`"
   ]
  },
  {
   "cell_type": "code",
   "execution_count": 293,
   "metadata": {},
   "outputs": [
    {
     "data": {
      "text/plain": [
       "<matplotlib.collections.PathCollection at 0x7f43045921f0>"
      ]
     },
     "execution_count": 293,
     "metadata": {},
     "output_type": "execute_result"
    },
    {
     "data": {
      "image/png": "[encoded data removed]",
      "text/plain": [
       "<Figure size 432x288 with 1 Axes>"
      ]
     },
     "metadata": {
      "needs_background": "light"
     },
     "output_type": "display_data"
    }
   ],
   "source": [
    "mlp2 = MLP(\n",
    "            input_size=1,\n",
    "            neurons_in_layer=[5],\n",
    "            weights=np.concatenate( (             \n",
    "                np.array([0, 50, -150, 50, -50, 50]),\n",
    "                np.array([0,100,100,100,100,0]),                \n",
    "                np.array([-180,80, 80,80,0,0])\n",
    ")))\n",
    "\n",
    "train_df = df.query('split == \"train\"')\n",
    "x = train_df['x'].values\n",
    "x = np.expand_dims(x, 1)\n",
    "y_pred = mlp2.forward(x)\n",
    "y_pred = np.squeeze(y_pred)\n",
    "y_pred.shape\n",
    "\n",
    "plt.scatter(train_df['x'], train_df['y'], color='green')\n",
    "plt.scatter(train_df['x'], y_pred, color='red')"
   ]
  },
  {
   "cell_type": "code",
   "execution_count": 238,
   "metadata": {},
   "outputs": [
    {
     "data": {
      "text/plain": [
       "0.950452563159524"
      ]
     },
     "execution_count": 238,
     "metadata": {},
     "output_type": "execute_result"
    }
   ],
   "source": [
    "metrics.mean_absolute_error(train_df['y'], y_pred)"
   ]
  }
 ],
 "metadata": {
  "kernelspec": {
   "display_name": "PyCharm (metody_inteligencji_obliczeniowej)",
   "language": "python",
   "name": "pycharm-87387d6a"
  },
  "language_info": {
   "codemirror_mode": {
    "name": "ipython",
    "version": 3
   },
   "file_extension": ".py",
   "mimetype": "text/x-python",
   "name": "python",
   "nbconvert_exporter": "python",
   "pygments_lexer": "ipython3",
   "version": "3.8.5"
  }
 },
 "nbformat": 4,
 "nbformat_minor": 1
}