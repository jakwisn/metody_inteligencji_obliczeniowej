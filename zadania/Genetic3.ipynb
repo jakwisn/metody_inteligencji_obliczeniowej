{
 "cells": [
  {
   "cell_type": "markdown",
   "id": "1e58aa52",
   "metadata": {},
   "source": [
    "# 2.3 Optymalizacja wag w sieci MLP z użyciem algorytmu genetycznego\n",
    "Zaimplementować proste uczenie MLP z użyciem algorytmu genetycznego. Na wejściu jest: struktura sieci neuronowej i dane uczące. Optymalizowana funkcja to funkcja przekształcająca wektor wag sieci na błąd na zbiorze uczącym. Zastosować standardowe operatory krzyżowania i mutacji.\n",
    "\n",
    "Przeprowadzić uczenie na zbiorach:\n",
    "\n",
    "* iris https://archive.ics.uci.edu/ml/datasets/Iris\n",
    "* multimodal-large (z części laboratorium o sieciach neuronowych)\n",
    "* auto-mpg (przewidzieć wartość mpg) - http://archive.ics.uci.edu/ml/datasets/Auto+MPG"
   ]
  },
  {
   "cell_type": "code",
   "execution_count": 251,
   "id": "e7d24e91",
   "metadata": {},
   "outputs": [],
   "source": [
    "import numpy as np \n",
    "import pandas as pd\n",
    "import matplotlib.pyplot as plt\n",
    "import copy\n",
    "import tqdm\n",
    "from sklearn.metrics import mean_absolute_error, accuracy_score\n",
    "from sklearn.metrics import log_loss"
   ]
  },
  {
   "cell_type": "markdown",
   "id": "a4708fd6",
   "metadata": {},
   "source": [
    "## Sieć MLP "
   ]
  },
  {
   "cell_type": "code",
   "execution_count": 296,
   "id": "033f20f7",
   "metadata": {},
   "outputs": [],
   "source": [
    "\n",
    "class MLP:\n",
    "\n",
    "    def __init__(self, layers, weights, biases, activation = 'sigmoid', output_function='softmax', visualize_weights=False , max_class = None):\n",
    "        self.layers = copy.deepcopy(layers)\n",
    "        self.weights = copy.deepcopy(weights)\n",
    "        self.biases = copy.deepcopy(biases)\n",
    "        self.max_class = max_class\n",
    "\n",
    "        self.derivative_w = []\n",
    "        self.derivative_b = []\n",
    "        self.visualize_weights = visualize_weights\n",
    "\n",
    "        if output_function == 'softmax':\n",
    "            self.function = self.softmax\n",
    "\n",
    "        elif output_function == 'linear':\n",
    "            self.function = self.linear\n",
    "        else : \n",
    "            raise ValueError(f'No output function named {output_function} available')\n",
    "        \n",
    "        if activation == 'sigmoid':\n",
    "            self.activation_function = self.sigmoid\n",
    "            self.grad = self.sigmoidGradient\n",
    "        elif activation == 'relu' : \n",
    "            self.activation_function = self.relu\n",
    "            self.grad = self.reluGradient\n",
    "        elif activation =='tanh' : \n",
    "            self.activation_function = self.tanh\n",
    "            self.grad = self.tanhGradient\n",
    "        elif activation =='linear' : \n",
    "            self.activation_function = self.linear\n",
    "            self.grad = self.linearGradient\n",
    "            \n",
    "        \n",
    "\n",
    "    def forward(self, inputs):\n",
    "        \"\"\"\n",
    "        performs forward propagation\n",
    "        \"\"\"\n",
    "        # activations and linear combinations passed to activation function\n",
    "        self.activations = []\n",
    "        self.z_values = []\n",
    "\n",
    "        activations = inputs\n",
    "        self.activations.append(activations)\n",
    "        for i in range(len(self.layers) - 2):\n",
    "            outputs = activations @ self.weights[i] + self.biases[i]\n",
    "            self.z_values.append(outputs)\n",
    "            activations = self.activation_function(outputs)\n",
    "            self.activations.append(activations)\n",
    "\n",
    "        self.weights[-1].shape\n",
    "        results = activations @ self.weights[-1] + self.biases[-1]\n",
    "        self.z_values.append(results)\n",
    "        activations = self.function(results)\n",
    "        self.activations.append(activations)\n",
    "        return activations\n",
    "\n",
    "\n",
    "\n",
    "    # ------------------------------ ACTIVATIONS ------------------------------ # \n",
    "    \n",
    "    @staticmethod\n",
    "    def softmax(x):\n",
    "        e_x = np.exp(x.T - np.max(x, axis=1).T).T\n",
    "        return (e_x.T / e_x.sum(axis=1).T).T\n",
    "    \n",
    "    @staticmethod\n",
    "    def relu(x): \n",
    "        return np.maximum(x, 0)\n",
    "    \n",
    "    @staticmethod\n",
    "    def tanh(x):\n",
    "        return (np.exp(x) - np.exp(-x)) / (np.exp(x) + np.exp(-x))\n",
    "\n",
    "    @staticmethod\n",
    "    def linear(x): \n",
    "        return x\n",
    "    \n",
    "    @staticmethod\n",
    "    def sigmoid(x):\n",
    "        return np.exp(x) / (1 + np.exp(x))\n",
    "     \n",
    "    # ------------------------------- GRADIENTS ------------------------------- # \n",
    "    \n",
    "    @staticmethod\n",
    "    def sigmoidGradient(x):\n",
    "        def sigmoid(x):\n",
    "            return np.exp(x) / (1 + np.exp(x))\n",
    "        return sigmoid(x) * (1 - sigmoid(x))\n",
    "    \n",
    "    @staticmethod\n",
    "    def reluGradient(x): \n",
    "        return np.where(x > 0, 1, 0)\n",
    "    \n",
    "    @staticmethod\n",
    "    def tanhGradient(x):\n",
    "        def tanh(x):\n",
    "            return (np.exp(x) - np.exp(-x)) / (np.exp(x) + np.exp(-x))\n",
    "        return 1.0 - tanh(x)**2\n",
    "    \n",
    "    @staticmethod\n",
    "    def linearGradient(x):\n",
    "        return np.ones(x.shape)\n",
    "    "
   ]
  },
  {
   "cell_type": "markdown",
   "id": "ca9611dc",
   "metadata": {},
   "source": [
    "## Algorytm Genetyczny "
   ]
  },
  {
   "cell_type": "code",
   "execution_count": 286,
   "id": "a43cfe13",
   "metadata": {},
   "outputs": [],
   "source": [
    "def generate_weights_and_biases(layers, lower, upper):\n",
    "    weights = []\n",
    "    biases = []\n",
    "\n",
    "    for i in range(len(layers) - 1):\n",
    "        weights.append(np.random.uniform(lower, upper, layers[i] * layers[i + 1]).reshape(layers[i], layers[i + 1]))\n",
    "        biases.append(np.random.uniform(lower, upper, layers[i + 1]).reshape(1, layers[i+1]))\n",
    "\n",
    "    return weights, biases\n",
    "\n",
    "def make_flat(weights, biases):\n",
    "    array_faltten1 = [x.flatten() for x in weights]\n",
    "    array_faltten2 = [x.flatten() for x in biases]\n",
    "    \n",
    "    shapes1 = [x.shape for x in weights]\n",
    "    shapes2 = [x.shape for x in biases]\n",
    "    \n",
    "    x = []\n",
    "    for element in array_faltten1: \n",
    "        x += (list(element))\n",
    "    for element in array_faltten2: \n",
    "        x += (list(element))\n",
    "    \n",
    "    return x, shapes1, shapes2\n",
    "\n",
    "def deflat(x, shapes1, shapes2): \n",
    "    shapes = shapes1 + shapes2\n",
    "    res = [] \n",
    "    k = 0\n",
    "    p = 0\n",
    "    for i, element in enumerate(shapes): \n",
    "        p += element[0]*element[1]\n",
    "        res.append(np.array(x[k:p]).reshape(shapes[i]))\n",
    "        k =  p \n",
    "    return res[:len(shapes1)], res[len(shapes1):] \n",
    "\n",
    "class Genetic: \n",
    "    \n",
    "    def __init__(self, MLP, function,x,  y, activation = 'relu', output_function = 'linear', layers=[1, 5, 5, 1], population_number = 100,  pcross=0.5, pmut = 0.1, ):\n",
    "        \n",
    "        mlps = []\n",
    "        for i in range(population_number):\n",
    "            weights, biases = generate_weights_and_biases(layers, -1, 1)\n",
    "            \n",
    "            mlp = MLP(\n",
    "                layers, \n",
    "                weights,\n",
    "                biases, \n",
    "                activation = activation,\n",
    "                output_function= output_function\n",
    "            )\n",
    "            mlps.append(mlp)\n",
    "        self.mlp = mlp\n",
    "        _, self.shapes1, self.shapes2  = make_flat(mlp.weights, mlp.biases) \n",
    "        self.chromosomes = [make_flat(mlp.weights, mlp.biases)[0] for mlp in mlps]\n",
    "        self.pcross = pcross \n",
    "        self.pmut = pmut\n",
    "        self.pupulation_number = population_number\n",
    "        self.chromosome_size = len(self.chromosomes[0])\n",
    "        self.function = function\n",
    "        self.x = x\n",
    "        self.y = y\n",
    "        \n",
    "    def mutate(self, seed = 123): \n",
    "        \n",
    "        chromosomes = np.random.permutation(self.chromosomes)\n",
    "        number_to_mutate = int(np.floor(self.pmut * len(chromosomes)))\n",
    "        if number_to_mutate == 0 : \n",
    "            return \n",
    "        chromosomes_to_mutate = chromosomes[0 : number_to_mutate]\n",
    "        for i in range(len(chromosomes_to_mutate)):\n",
    "            chromosomes_to_mutate[i,np.random.randint(0, self.chromosome_size)] += np.random.normal()\n",
    "            \n",
    "        chromosomes[0 : number_to_mutate] = chromosomes_to_mutate\n",
    "        \n",
    "        self.chromosomes = np.random.permutation(chromosomes)\n",
    "    \n",
    "    @staticmethod\n",
    "    def cross(a,b):\n",
    "        assert len(a) == len(b)\n",
    "        \n",
    "        n = len(a)\n",
    "        split_point = np.random.randint(1,n-1)\n",
    "        first_child  = np.append(a[:split_point], b[split_point:])\n",
    "        second_child = np.append(b[:split_point], a[split_point:])\n",
    "        \n",
    "        return first_child, second_child\n",
    "        \n",
    "    def pick_best(self, chromosomes):\n",
    "        \n",
    "        values = []\n",
    "        for i, chromosome in enumerate(chromosomes): \n",
    "            self.mlp.weights = deflat(chromosome, self.shapes1, self.shapes2)[0]\n",
    "            self.mlp.biases = deflat(chromosome, self.shapes1, self.shapes2)[1]\n",
    "            \n",
    "            val = 1/self.function(self.y, self.mlp.forward(self.x))\n",
    "            values.append(val)\n",
    "            \n",
    "        probs = np.array([val/sum(values) for val in values])\n",
    "        self.best.append(chromosomes[np.argmax(probs)])\n",
    "        self.mean.append(np.mean(1/np.array(values)))\n",
    "        choice = np.random.choice(np.arange(len(chromosomes)), size = len(chromosomes), replace = True, p = probs).astype('int')\n",
    "        parents = np.array(chromosomes)[choice]\n",
    "        \n",
    "        return parents\n",
    "        \n",
    "    def evolution(self, iterations = 100):\n",
    "        self.best = []\n",
    "        self.mean = [] \n",
    "                         \n",
    "        for i in tqdm.tqdm(range(iterations)):\n",
    "            chromosomes = np.random.permutation(self.chromosomes)\n",
    "            parents = self.pick_best(self.chromosomes)\n",
    "            \n",
    "            children = []\n",
    "            while len(children) < len(chromosomes): \n",
    "                if self.pcross >= np.random.uniform(0,1): \n",
    "                    child1, child2 = self.cross(parents[np.random.randint(len(parents))], parents[np.random.randint(len(parents))])\n",
    "                    children.append(child1)\n",
    "                    children.append(child2)\n",
    "                else: \n",
    "                    children.append(parents[np.random.randint(len(parents))])\n",
    "                \n",
    "            \n",
    "            self.chromosomes = np.array(children[:len(chromosomes)])\n",
    "            self.mutate(self.chromosomes)\n",
    "        nothing = self.pick_best(self.chromosomes)\n",
    "        print('---- evolution ended ----')\n",
    "        self.mlp.weights = deflat(self.best[-1], self.shapes1, self.shapes2)[0]\n",
    "        self.mlp.biases = deflat(self.best[-1], self.shapes1, self.shapes2)[1]\n",
    "        res = self.mlp.forward(self.x)\n",
    "        print(f'best result {self.function(y, res)}')\n",
    "        \n",
    "\n"
   ]
  },
  {
   "cell_type": "markdown",
   "id": "be596b07",
   "metadata": {},
   "source": [
    "## Test na zbiorach"
   ]
  },
  {
   "cell_type": "markdown",
   "id": "743314fc",
   "metadata": {},
   "source": [
    "### multimodal-large"
   ]
  },
  {
   "cell_type": "code",
   "execution_count": 220,
   "id": "2040c701",
   "metadata": {},
   "outputs": [],
   "source": [
    "train_df = pd.read_csv('..\\data\\multimodal-large-training.csv', index_col=0)\n",
    "test_df = pd.read_csv('..\\data\\multimodal-large-test.csv', index_col=0)\n",
    "\n",
    "x = np.asarray(train_df['x']).reshape(-1, 1)\n",
    "x = (x - np.mean(x, axis = 0))/np.std(x, axis = 0)\n",
    "y = np.asarray(train_df['y']).reshape(-1, 1)\n",
    "y = (y - np.mean(y, axis = 0))/np.std(y, axis = 0)\n",
    "\n",
    "x_test = np.asarray(test_df['x']).reshape(-1,1)\n",
    "\n",
    "\n",
    "layers=[1, 16, 16, 1]\n",
    "weights, biases = generate_weights_and_biases(layers, -1, 1)"
   ]
  },
  {
   "cell_type": "code",
   "execution_count": 202,
   "id": "9f298d87",
   "metadata": {},
   "outputs": [],
   "source": [
    "gen = Genetic(MLP, function = mean_absolute_error, x = x,  y = y, activation = 'sigmoid', output_function = 'linear', layers=[1, 16, 16, 1], population_number = 100,  pcross=0.7, pmut = 0.4)"
   ]
  },
  {
   "cell_type": "code",
   "execution_count": 205,
   "id": "0ae96e5f",
   "metadata": {},
   "outputs": [
    {
     "name": "stderr",
     "output_type": "stream",
     "text": [
      "100%|██████████████████████████████████████████████████████████████████████████████| 1000/1000 [15:14<00:00,  1.09it/s]\n"
     ]
    },
    {
     "name": "stdout",
     "output_type": "stream",
     "text": [
      "---- evolution ended ----\n",
      "best result 0.23633233540820492\n"
     ]
    }
   ],
   "source": [
    "gen.evolution(1000)"
   ]
  },
  {
   "cell_type": "code",
   "execution_count": 206,
   "id": "7893473e",
   "metadata": {},
   "outputs": [
    {
     "data": {
      "image/png": "[encoded data removed]",
      "text/plain": [
       "<Figure size 432x288 with 1 Axes>"
      ]
     },
     "metadata": {
      "needs_background": "light"
     },
     "output_type": "display_data"
    }
   ],
   "source": [
    "predictions = gen.mlp.forward(x)\n",
    "\n",
    "\n",
    "plt.scatter(x, y, color='green')\n",
    "plt.scatter(x, predictions, color='red')\n",
    "plt.show()"
   ]
  },
  {
   "cell_type": "code",
   "execution_count": 215,
   "id": "a07dffba",
   "metadata": {},
   "outputs": [
    {
     "data": {
      "text/plain": [
       "[<matplotlib.lines.Line2D at 0x212e13c33a0>]"
      ]
     },
     "execution_count": 215,
     "metadata": {},
     "output_type": "execute_result"
    },
    {
     "data": {
      "image/png": "[encoded data removed]",
      "text/plain": [
       "<Figure size 432x288 with 1 Axes>"
      ]
     },
     "metadata": {
      "needs_background": "light"
     },
     "output_type": "display_data"
    }
   ],
   "source": [
    "plt.plot(gen.mean) # wartość funkcji dla chromosomów w poszczególnych iteracjach"
   ]
  },
  {
   "cell_type": "code",
   "execution_count": 216,
   "id": "6f848213",
   "metadata": {},
   "outputs": [],
   "source": [
    "gen = Genetic(MLP, function = mean_absolute_error, x = x,  y = y, activation = 'relu', output_function = 'linear', layers=[1, 16, 16, 1], population_number = 100,  pcross=0.7, pmut = 0.4)"
   ]
  },
  {
   "cell_type": "code",
   "execution_count": 217,
   "id": "e2b18e7a",
   "metadata": {},
   "outputs": [
    {
     "name": "stderr",
     "output_type": "stream",
     "text": [
      "100%|████████████████████████████████████████████████████████████████████████████████| 200/200 [01:40<00:00,  1.99it/s]\n"
     ]
    },
    {
     "name": "stdout",
     "output_type": "stream",
     "text": [
      "---- evolution ended ----\n",
      "best result 0.16268028393056025\n"
     ]
    }
   ],
   "source": [
    "gen.evolution(200)"
   ]
  },
  {
   "cell_type": "code",
   "execution_count": 221,
   "id": "8dc8f81a",
   "metadata": {},
   "outputs": [
    {
     "data": {
      "image/png": "[encoded data removed]",
      "text/plain": [
       "<Figure size 432x288 with 1 Axes>"
      ]
     },
     "metadata": {
      "needs_background": "light"
     },
     "output_type": "display_data"
    }
   ],
   "source": [
    "predictions = gen.mlp.forward(x)\n",
    "\n",
    "\n",
    "plt.scatter(x, y, color='green')\n",
    "plt.scatter(x, predictions, color='red')\n",
    "plt.show()"
   ]
  },
  {
   "cell_type": "code",
   "execution_count": 222,
   "id": "a95a933c",
   "metadata": {},
   "outputs": [
    {
     "data": {
      "text/plain": [
       "[<matplotlib.lines.Line2D at 0x212cb3bedf0>]"
      ]
     },
     "execution_count": 222,
     "metadata": {},
     "output_type": "execute_result"
    },
    {
     "data": {
      "image/png": "[encoded data removed]",
      "text/plain": [
       "<Figure size 432x288 with 1 Axes>"
      ]
     },
     "metadata": {
      "needs_background": "light"
     },
     "output_type": "display_data"
    }
   ],
   "source": [
    "plt.plot(gen.mean) # wartość funkcji dla chromosomów w poszczególnych iteracjach"
   ]
  },
  {
   "cell_type": "markdown",
   "id": "0600f546",
   "metadata": {},
   "source": [
    "### Wnioski \n",
    "Na zbiorze multimodal, lepiej sprawdziło się relu niż sigmoid. Algorytm genetyczny w miarę dobrze poradził sobie z optymalizacją wyniku. Brakuje jednak precyzji aby powiedzieć, że wykonał zadanie w pełni dobrze. "
   ]
  },
  {
   "cell_type": "markdown",
   "id": "80399611",
   "metadata": {},
   "source": [
    "## iris"
   ]
  },
  {
   "cell_type": "code",
   "execution_count": 239,
   "id": "51268b91",
   "metadata": {},
   "outputs": [],
   "source": [
    "from sklearn.preprocessing import OrdinalEncoder"
   ]
  },
  {
   "cell_type": "code",
   "execution_count": 244,
   "id": "696b54d8",
   "metadata": {},
   "outputs": [],
   "source": [
    "train_df = pd.read_csv('../data/iris.data', header=None, index_col=0).reset_index()\n",
    "\n",
    "x = np.asarray(train_df.iloc[:,0:4])\n",
    "x = (x - np.mean(x, axis = 0))/np.std(x, axis = 0)\n",
    "\n",
    "y = np.asarray(train_df.iloc[:,4]).reshape(-1, 1)\n",
    "y = OrdinalEncoder().fit_transform(y).astype('int')\n",
    "\n",
    "b = np.zeros((y.size, y.max() + 1))\n",
    "b[np.arange(y.size), y.flatten()] = 1"
   ]
  },
  {
   "cell_type": "code",
   "execution_count": 246,
   "id": "39b17faa",
   "metadata": {},
   "outputs": [],
   "source": [
    "gen = Genetic(MLP, function = log_loss, x = x,  y = b, activation = 'relu', output_function = 'softmax', layers=[4, 16, 16, 3], population_number = 100,  pcross=0.7, pmut = 0.4)"
   ]
  },
  {
   "cell_type": "code",
   "execution_count": 247,
   "id": "d489770f",
   "metadata": {},
   "outputs": [
    {
     "name": "stderr",
     "output_type": "stream",
     "text": [
      "100%|████████████████████████████████████████████████████████████████████████████████| 200/200 [00:16<00:00, 12.16it/s]"
     ]
    },
    {
     "name": "stdout",
     "output_type": "stream",
     "text": [
      "---- evolution ended ----\n",
      "best result 0.06287758713108171\n"
     ]
    },
    {
     "name": "stderr",
     "output_type": "stream",
     "text": [
      "\n"
     ]
    }
   ],
   "source": [
    "gen.evolution(200)"
   ]
  },
  {
   "cell_type": "code",
   "execution_count": 248,
   "id": "27d0107f",
   "metadata": {},
   "outputs": [
    {
     "data": {
      "text/plain": [
       "[<matplotlib.lines.Line2D at 0x212ca709ca0>]"
      ]
     },
     "execution_count": 248,
     "metadata": {},
     "output_type": "execute_result"
    },
    {
     "data": {
      "image/png": "[encoded data removed]",
      "text/plain": [
       "<Figure size 432x288 with 1 Axes>"
      ]
     },
     "metadata": {
      "needs_background": "light"
     },
     "output_type": "display_data"
    }
   ],
   "source": [
    "plt.plot(gen.mean)"
   ]
  },
  {
   "cell_type": "code",
   "execution_count": 252,
   "id": "4f9b0d74",
   "metadata": {},
   "outputs": [
    {
     "data": {
      "text/plain": [
       "0.9666666666666667"
      ]
     },
     "execution_count": 252,
     "metadata": {},
     "output_type": "execute_result"
    }
   ],
   "source": [
    "accuracy_score(np.argmax(gen.mlp.forward(x),axis = 1), y)"
   ]
  },
  {
   "cell_type": "markdown",
   "id": "7d63197b",
   "metadata": {},
   "source": [
    "### Wnioski \n",
    "Tutaj algorytm wykonał zadanie bez zastrzeżeń. Accuracy rzędu 0.97 jest bardzo dobrym wynikiem. "
   ]
  },
  {
   "cell_type": "markdown",
   "id": "1cc3cf53",
   "metadata": {},
   "source": [
    "### auto-mpg"
   ]
  },
  {
   "cell_type": "code",
   "execution_count": 297,
   "id": "33a4d5b8",
   "metadata": {},
   "outputs": [],
   "source": [
    "train_df = pd.read_csv('..\\data\\\\auto-mpg.data', sep='\\s+', header=None)\n",
    "train_df = train_df[train_df[3] != \"?\"]\n",
    "x = train_df.iloc[:,1:7]\n",
    "x = x.apply(pd.to_numeric).to_numpy()\n",
    "x = (x - np.mean(x, axis = 0))/np.std(x, axis = 0)\n",
    "y = np.asarray(train_df.iloc[:,0]).reshape(-1, 1)\n",
    "\n",
    "\n"
   ]
  },
  {
   "cell_type": "code",
   "execution_count": 298,
   "id": "53fdec2b",
   "metadata": {},
   "outputs": [],
   "source": [
    "gen = Genetic(MLP, function = mean_absolute_error, x = x,  y = y, activation = 'relu', output_function = 'linear', layers=[6, 16, 16, 1], population_number = 100,  pcross=0.7, pmut = 0.4)"
   ]
  },
  {
   "cell_type": "code",
   "execution_count": 299,
   "id": "b6aaa72b",
   "metadata": {},
   "outputs": [
    {
     "name": "stderr",
     "output_type": "stream",
     "text": [
      "100%|████████████████████████████████████████████████████████████████████████████████| 200/200 [00:06<00:00, 32.70it/s]\n"
     ]
    },
    {
     "name": "stdout",
     "output_type": "stream",
     "text": [
      "---- evolution ended ----\n",
      "best result 2.973502231296537\n"
     ]
    }
   ],
   "source": [
    "gen.evolution(200)"
   ]
  },
  {
   "cell_type": "code",
   "execution_count": 300,
   "id": "4abe2f72",
   "metadata": {},
   "outputs": [
    {
     "data": {
      "text/plain": [
       "[<matplotlib.lines.Line2D at 0x212cb34bd30>]"
      ]
     },
     "execution_count": 300,
     "metadata": {},
     "output_type": "execute_result"
    },
    {
     "data": {
      "image/png": "[encoded data removed]",
      "text/plain": [
       "<Figure size 432x288 with 1 Axes>"
      ]
     },
     "metadata": {
      "needs_background": "light"
     },
     "output_type": "display_data"
    }
   ],
   "source": [
    "plt.plot(gen.mean)"
   ]
  },
  {
   "cell_type": "markdown",
   "id": "ef46192a",
   "metadata": {},
   "source": [
    "### Wnioski \n",
    "Tutaj również algorytmowi udało się osiągnąć satysfakcjonujący wynik."
   ]
  },
  {
   "cell_type": "markdown",
   "id": "dcfb6e4c",
   "metadata": {},
   "source": [
    "# Wnioski globalne \n",
    "Algorytm genetyczny dobrze aproksymuje optymalne rozwiązanie. Najlepiej sprawdzała się funkcja `relu`. Również normalizacja wag była kluczowa dla dobrego działania algorytmu, co nie powinno dziwić, jeśli początkowo wagi losujemy z rozkładu normalnego o wartości oczekiwanej 0.  "
   ]
  }
 ],
 "metadata": {
  "kernelspec": {
   "display_name": "Python 3",
   "language": "python",
   "name": "python3"
  },
  "language_info": {
   "codemirror_mode": {
    "name": "ipython",
    "version": 3
   },
   "file_extension": ".py",
   "mimetype": "text/x-python",
   "name": "python",
   "nbconvert_exporter": "python",
   "pygments_lexer": "ipython3",
   "version": "3.8.8"
  }
 },
 "nbformat": 4,
 "nbformat_minor": 5
}
