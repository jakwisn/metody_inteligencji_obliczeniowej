{
 "cells": [
  {
   "cell_type": "markdown",
   "metadata": {
    "pycharm": {
     "name": "#%% md\n"
    }
   },
   "source": [
    "# [Lab 03 - Implementacja propagacji wstecznej błędu](http://pages.mini.pw.edu.pl/~karwowskij/mioad/lab-sieci.html#org7777810)\n",
    "\n",
    "Zaimplementować dwa usprawnienia uczenia gradientowego sieci neuronowej:\n",
    "\n",
    "* moment,\n",
    "* normalizację gradientu RMSProp.\n",
    "\n",
    "Porównać szybkość zbieżności procesu uczenia dla obu wariantów.\n",
    "\n",
    "Przeprowadzić eksperymenty na zbiorach:\n",
    "\n",
    "* square-large,\n",
    "* steps-large,\n",
    "* multimodal-large.\n"
   ]
  },
  {
   "cell_type": "code",
   "execution_count": 38,
   "metadata": {},
   "outputs": [],
   "source": [
    "import numpy as np\n",
    "import pandas as pd\n",
    "import seaborn as sns\n",
    "from matplotlib import pyplot as plt\n",
    "from sklearn import metrics\n",
    "import copy"
   ]
  },
  {
   "cell_type": "markdown",
   "metadata": {
    "pycharm": {
     "name": "#%% md\n"
    }
   },
   "source": [
    "## Model"
   ]
  },
  {
   "cell_type": "code",
   "execution_count": 44,
   "metadata": {},
   "outputs": [],
   "source": [
    "class MLP:\n",
    "\n",
    "    def __init__(self, layers, weights, biases, visualize_weights = False):\n",
    "        self.layers = copy.deepcopy(layers)\n",
    "        self.weights = copy.deepcopy(weights)\n",
    "        self.biases = copy.deepcopy(biases)\n",
    "\n",
    "        self.derivative_w = []\n",
    "        self.derivative_b = []\n",
    "        self.visualize_weights = visualize_weights\n",
    "\n",
    "\n",
    "    def forward(self, inputs):\n",
    "        \"\"\"\n",
    "        performs forward propagation\n",
    "        \"\"\"\n",
    "        # activations and linear combinations passed to activation function\n",
    "        self.activations = []\n",
    "        self.z_values = []\n",
    "\n",
    "        activations = inputs\n",
    "        self.activations.append(activations)\n",
    "        for i in range(len(self.layers)-2):\n",
    "\n",
    "            outputs = activations @ self.weights[i] + self.biases[i]\n",
    "            self.z_values.append(outputs)\n",
    "            activations = self.sigmoid(outputs)\n",
    "            self.activations.append(activations)\n",
    "        \n",
    "        self.weights[-1].shape\n",
    "        results = activations @ self.weights[-1] + self.biases[-1]\n",
    "        self.z_values.append(results)\n",
    "        self.activations.append(results)\n",
    "        return results\n",
    "\n",
    "\n",
    "    def backpropagation(self, y):\n",
    "        deltas = [None] * len(self.weights)\n",
    "        deltas[-1] = y - self.activations[-1]\n",
    "\n",
    "        for i in reversed(range(len(deltas) - 1)):\n",
    "            deltas[i] = ((self.weights[i + 1] @ deltas[i + 1].T ) * self.sigmoidGradient(self.z_values[i]).T).T\n",
    "\n",
    "        m = y.shape[0]\n",
    "\n",
    "        derivative_b = [None] * len(deltas)\n",
    "        derivative_w = [None] * len(deltas)\n",
    "\n",
    "        for i, d in enumerate(deltas):\n",
    "            derivative_w[i] = (d.T @ self.activations[i]).T / m\n",
    "            derivative_b[i] = (d.T @ np.ones((m, 1))).T / m\n",
    "\n",
    "        return derivative_w, derivative_b\n",
    "\n",
    "    def train(self, x, y, batch_size=20, epochs=500, alpha=0.1, verbose=False, momentum = False, rmsprop = False, lambda_moment = 0.5, beta = 0.5):\n",
    "\n",
    "        p = np.random.permutation(len(y))\n",
    "        x = x[p]\n",
    "        y = y[p]\n",
    "\n",
    "        momentum_w = [np.zeros(w.shape) for w in self.weights]\n",
    "        momentum_b = [np.zeros(b.shape) for b in self.biases]\n",
    "        \n",
    "        rmsprop_w = [np.zeros(w.shape) for w in self.weights]\n",
    "        rmsprop_b = [np.zeros(b.shape) for b in self.biases]\n",
    "         \n",
    "        \n",
    "        for epoch in range(epochs):\n",
    "            i = 0\n",
    "            \n",
    "            while i < len(y):\n",
    "                x_batch = x[i:i + batch_size]\n",
    "                y_batch = y[i:i + batch_size]\n",
    "                i = i + batch_size\n",
    "                y_hat = self.forward(x_batch)\n",
    "                derivative_w, derivative_b = self.backpropagation(y_batch)\n",
    "\n",
    "                for j, weight in enumerate(self.weights):\n",
    "\n",
    "                    if momentum: \n",
    "                        momentum_w[j] = momentum_w[j] * lambda_moment + derivative_w[j]\n",
    "                        self.weights[j] = weight + alpha * momentum_w[j]\n",
    "                    \n",
    "                    elif rmsprop: \n",
    "                        rmsprop_w[j] = beta * rmsprop_w[j] + (1-beta) * derivative_w[j] ** 2\n",
    "                        self.weights[j] = weight + alpha * (derivative_w[j]/np.sqrt(rmsprop_w[j]))\n",
    "                        \n",
    "                    else:\n",
    "                        self.weights[j] = weight + alpha * derivative_w[j]\n",
    "\n",
    "                for j, bias in enumerate(self.biases):\n",
    "\n",
    "                    if momentum: \n",
    "                        momentum_b[j] = momentum_b[j] * lambda_moment + derivative_b[j]\n",
    "                        self.biases[j] = bias + alpha * momentum_b[j]\n",
    "                    \n",
    "                    elif rmsprop: \n",
    "                        rmsprop_b[j] = beta * rmsprop_b[j] + (1-beta) * derivative_b[j] ** 2\n",
    "                        self.biases[j] = bias + alpha * (derivative_b[j]/np.sqrt(rmsprop_b[j]))\n",
    "                    \n",
    "                    else:\n",
    "                        self.biases[j] = bias + alpha * derivative_b[j]     \n",
    "            \n",
    "\n",
    "            if self.visualize_weights:\n",
    "                if epoch%100 == 0:\n",
    "                    \n",
    "                    print(\"Error in epoch {} = {}\".format(epoch, np.linalg.norm(self.activations[-1] - y_batch)))\n",
    "                    network_structure = np.asarray(layers)\n",
    "                    network=visNN.DrawNN(network_structure, self.weights)\n",
    "                    network.draw()\n",
    "            else: \n",
    "                print(\"Error in epoch {} = {}\".format(epoch, np.linalg.norm(self.activations[-1] - y_batch)), end = '\\r')\n",
    "\n",
    "\n",
    "    @staticmethod\n",
    "    def sigmoid(x):\n",
    "        return np.exp(x) / (1 + np.exp(x))\n",
    "\n",
    "    @staticmethod\n",
    "    def sigmoidGradient(x):\n",
    "        def sigmoid(x):\n",
    "            return np.exp(x) / (1 + np.exp(x))\n",
    "        return sigmoid(x) * (1 - sigmoid(x))"
   ]
  },
  {
   "cell_type": "code",
   "execution_count": 45,
   "metadata": {},
   "outputs": [],
   "source": [
    "def generate_weights_and_biases(layers, lower, upper):\n",
    "\n",
    "    weights = []\n",
    "    biases = []\n",
    "\n",
    "    for i in range(len(layers) - 1):\n",
    "        weights.append(np.random.uniform(lower, upper, layers[i] * layers[i + 1]).reshape(layers[i], layers[i + 1]))\n",
    "        biases.append(np.random.uniform(lower, upper, layers[i + 1]).reshape(1, layers[i+1]))\n",
    "\n",
    "    return weights, biases"
   ]
  },
  {
   "cell_type": "markdown",
   "metadata": {},
   "source": [
    "# Testowanie usprawnień sieci na danych\n",
    "Dla każdego zbioru danych wykonamy następujący eksperyment: \n",
    "* dla każdego usprawnienia (oraz bazowej implementacji) wytrenujemy sieć neuronową (takie same wagi początkowe, taka sama architektura) \n",
    "* ze względu na charakter losowy doboru wag dla każdej z epoch zostanie wytrenowana 5 razy\n",
    "* tak będziemy robić dla każdej z predefiniowanego zestawu epoch\n",
    "* parametry (`alpha` `beta` `lambda`) zostały ustawione przeze mnie ręcznie i dobrane według mnie w optymalny sposób\n",
    "* na sam koniec dla każdego zbioru wykonany zostanie plot przedstawiający szybkość zbieżności każdej metody\n",
    "\n",
    "## Square simple"
   ]
  },
  {
   "cell_type": "code",
   "execution_count": null,
   "metadata": {},
   "outputs": [],
   "source": [
    "train_df = pd.read_csv('../data/square-simple-training.csv', index_col=0)\n",
    "test_df = pd.read_csv('../data/square-simple-test.csv', index_col=0)\n",
    "\n",
    "x = np.asarray(train_df['x']).reshape(-1, 1)\n",
    "y = np.asarray(train_df['y']).reshape(-1, 1)\n",
    "x_test = np.asarray(test_df['x']).reshape(-1,1)\n",
    "\n"
   ]
  },
  {
   "cell_type": "markdown",
   "metadata": {},
   "source": [
    "### Zestaw epoch"
   ]
  },
  {
   "cell_type": "code",
   "execution_count": 53,
   "metadata": {},
   "outputs": [],
   "source": [
    "epochs_range = np.array([10, 50, 100, 200, 300, 500, 800, 1000, 2000, 5000])"
   ]
  },
  {
   "cell_type": "code",
   "execution_count": 94,
   "metadata": {},
   "outputs": [
    {
     "name": "stdout",
     "output_type": "stream",
     "text": [
      "Error in epoch 4999 = 152.15879364096418\r"
     ]
    }
   ],
   "source": [
    "mean_results_base = []\n",
    "mean_results_moment = []\n",
    "mean_results_rmsprop = []\n",
    "for num_epochs in epochs_range:\n",
    "    results_b = []\n",
    "    results_m = []\n",
    "    results_r = []\n",
    "    \n",
    "    for _ in range(5):\n",
    "        weights, biases = generate_weights_and_biases(layers, -1, 1)\n",
    "        mlp_b = MLP(layers, weights, biases)\n",
    "        mlp_m = MLP(layers, weights, biases)\n",
    "        mlp_r = MLP(layers, weights, biases)\n",
    "        \n",
    "        mlp_b.train(x, y, epochs = num_epochs, alpha=0.001)\n",
    "        mlp_m.train(x, y, epochs = num_epochs, alpha=0.01, momentum = True, lambda_moment = 0.1)\n",
    "        mlp_r.train(x, y, epochs = num_epochs, alpha=0.1, rmsprop = True, beta = 0.9)\n",
    "\n",
    "        predictions_b = mlp_b.forward(x_test)\n",
    "        predictions_m = mlp_m.forward(x_test)\n",
    "        predictions_r = mlp_r.forward(x_test)\n",
    "\n",
    "        results_b.append(metrics.mean_absolute_error(test_df['y'], predictions_b))\n",
    "        results_m.append(metrics.mean_absolute_error(test_df['y'], predictions_m))\n",
    "        results_r.append(metrics.mean_absolute_error(test_df['y'], predictions_r))\n",
    "        \n",
    "        \n",
    "    mean_results_base.append(np.array(results_b).mean())\n",
    "    mean_results_moment.append(np.array(results_m).mean())\n",
    "    mean_results_rmsprop.append(np.array(results_r).mean())\n",
    "    "
   ]
  },
  {
   "cell_type": "code",
   "execution_count": 95,
   "metadata": {},
   "outputs": [
    {
     "data": {
      "image/png": "[encoded data removed]",
      "text/plain": [
       "<Figure size 432x288 with 1 Axes>"
      ]
     },
     "metadata": {
      "needs_background": "light"
     },
     "output_type": "display_data"
    }
   ],
   "source": [
    "plt.plot(epochs_range, mean_results_base, color='green', marker='o', linestyle='dashed', linewidth=2, label='base')\n",
    "plt.plot(epochs_range, mean_results_moment, color='red', marker='o', linestyle='dashed', linewidth=2, label='moment')\n",
    "plt.plot(epochs_range, mean_results_rmsprop, color='blue', marker='o', linestyle='dashed', linewidth=2, label='rmsprop')\n",
    "plt.legend()\n",
    "plt.show()"
   ]
  },
  {
   "cell_type": "markdown",
   "metadata": {},
   "source": [
    "### Wnioski\n",
    "Najszybciej zbiegł `moment`, już po 1000 epoch był on w dość optymalnym punkcie. Kolejny szybko zbiegł `rmsprop` (należałoby jednak delikatnie zmniejszyć learning rate). Na końcu `base` i `moment` osiągnęły najmniejszy błąd."
   ]
  },
  {
   "cell_type": "markdown",
   "metadata": {},
   "source": [
    "## multimodal-small"
   ]
  },
  {
   "cell_type": "code",
   "execution_count": 107,
   "metadata": {},
   "outputs": [
    {
     "name": "stdout",
     "output_type": "stream",
     "text": [
      "Error in epoch 4999 = 9.6004432561092598\r"
     ]
    },
    {
     "data": {
      "image/png": "[encoded data removed]",
      "text/plain": [
       "<Figure size 432x288 with 1 Axes>"
      ]
     },
     "metadata": {
      "needs_background": "light"
     },
     "output_type": "display_data"
    }
   ],
   "source": [
    "train_df = pd.read_csv('../data/multimodal-small-training.csv', index_col=0)\n",
    "test_df = pd.read_csv('../data/multimodal-small-test.csv', index_col=0)\n",
    "\n",
    "x = np.asarray(train_df['x']).reshape(-1, 1)\n",
    "y = np.asarray(train_df['y']).reshape(-1, 1)\n",
    "x_test = np.asarray(test_df['x']).reshape(-1,1)\n",
    "\n",
    "layers=[1, 10, 1]\n",
    "weights, biases = generate_weights_and_biases(layers, -1, 1)\n",
    "\n",
    "mean_results_base = []\n",
    "mean_results_moment = []\n",
    "mean_results_rmsprop = []\n",
    "for num_epochs in epochs_range:\n",
    "    results_b = []\n",
    "    results_m = []\n",
    "    results_r = []\n",
    "    \n",
    "    for _ in range(5):\n",
    "        weights, biases = generate_weights_and_biases(layers, -1, 1)\n",
    "        mlp_b = MLP(layers, weights, biases)\n",
    "        mlp_m = MLP(layers, weights, biases)\n",
    "        mlp_r = MLP(layers, weights, biases)\n",
    "        \n",
    "        mlp_b.train(x, y, epochs = num_epochs, alpha=0.01)\n",
    "        mlp_m.train(x, y, epochs = num_epochs, alpha=0.1, momentum = True, lambda_moment = 0.1)\n",
    "        mlp_r.train(x, y, epochs = num_epochs, alpha=0.1, rmsprop = True, beta = 0.98)\n",
    "\n",
    "        predictions_b = mlp_b.forward(x_test)\n",
    "        predictions_m = mlp_m.forward(x_test)\n",
    "        predictions_r = mlp_r.forward(x_test)\n",
    "\n",
    "        results_b.append(metrics.mean_absolute_error(test_df['y'], predictions_b))\n",
    "        results_m.append(metrics.mean_absolute_error(test_df['y'], predictions_m))\n",
    "        results_r.append(metrics.mean_absolute_error(test_df['y'], predictions_r))\n",
    "        \n",
    "        \n",
    "    mean_results_base.append(np.array(results_b).mean())\n",
    "    mean_results_moment.append(np.array(results_m).mean())\n",
    "    mean_results_rmsprop.append(np.array(results_r).mean())\n",
    "\n",
    "plt.plot(epochs_range, mean_results_base, color='green', marker='o', linestyle='dashed', linewidth=2, label='base')\n",
    "plt.plot(epochs_range, mean_results_moment, color='red', marker='o', linestyle='dashed', linewidth=2, label='moment')\n",
    "plt.plot(epochs_range, mean_results_rmsprop, color='blue', marker='o', linestyle='dashed', linewidth=2, label='rmsprop')\n",
    "plt.legend()\n",
    "plt.show()"
   ]
  },
  {
   "cell_type": "markdown",
   "metadata": {},
   "source": [
    "### Wnioski\n",
    "\n",
    "Najlepiej sprawdził się w tym wypadku `moment`, zbiegł on najszybciej i doszedł do mniejszego błędu. Marginalnie lepszy od bazowego był również `rmsprop`"
   ]
  },
  {
   "cell_type": "markdown",
   "metadata": {},
   "source": [
    "## multimodal-large"
   ]
  },
  {
   "cell_type": "code",
   "execution_count": 139,
   "metadata": {},
   "outputs": [],
   "source": [
    "epochs_range = np.array([10, 50, 100, 200, 300, 500, 800, 1000, 2000])"
   ]
  },
  {
   "cell_type": "code",
   "execution_count": 140,
   "metadata": {},
   "outputs": [
    {
     "name": "stdout",
     "output_type": "stream",
     "text": [
      "Error in epoch 1999 = 1.1213212640811044\r"
     ]
    },
    {
     "data": {
      "image/png": "[encoded data removed]",
      "text/plain": [
       "<Figure size 432x288 with 1 Axes>"
      ]
     },
     "metadata": {
      "needs_background": "light"
     },
     "output_type": "display_data"
    }
   ],
   "source": [
    "train_df = pd.read_csv('../data/multimodal-large-training.csv', index_col=0)\n",
    "test_df = pd.read_csv('../data/multimodal-large-test.csv', index_col=0)\n",
    "\n",
    "x = np.asarray(train_df['x']).reshape(-1, 1)\n",
    "y = np.asarray(train_df['y']).reshape(-1, 1)\n",
    "x_test = np.asarray(test_df['x']).reshape(-1,1)\n",
    "\n",
    "layers=[1, 10, 1]\n",
    "weights, biases = generate_weights_and_biases(layers, -1, 1)\n",
    "\n",
    "mean_results_base = []\n",
    "mean_results_moment = []\n",
    "mean_results_rmsprop = []\n",
    "for num_epochs in epochs_range:\n",
    "    results_b = []\n",
    "    results_m = []\n",
    "    results_r = []\n",
    "    \n",
    "    \n",
    "    for _ in range(5):\n",
    "        weights, biases = generate_weights_and_biases(layers, -1, 1)\n",
    "        mlp_b = MLP(layers, weights, biases)\n",
    "        mlp_m = MLP(layers, weights, biases)\n",
    "        mlp_r = MLP(layers, weights, biases)\n",
    "        \n",
    "        mlp_b.train(x, y, epochs = num_epochs, alpha=0.01)\n",
    "        mlp_m.train(x, y, epochs = num_epochs, alpha=0.01, momentum = True, lambda_moment = 0.2)\n",
    "        mlp_r.train(x, y, epochs = num_epochs, alpha=0.05, rmsprop = True, beta = 0.98)\n",
    "\n",
    "        predictions_b = mlp_b.forward(x_test)\n",
    "        predictions_m = mlp_m.forward(x_test)\n",
    "        predictions_r = mlp_r.forward(x_test)\n",
    "\n",
    "        results_b.append(metrics.mean_absolute_error(test_df['y'], predictions_b))\n",
    "        results_m.append(metrics.mean_absolute_error(test_df['y'], predictions_m))\n",
    "        results_r.append(metrics.mean_absolute_error(test_df['y'], predictions_r))\n",
    "        \n",
    "        \n",
    "    mean_results_base.append(np.array(results_b).mean())\n",
    "    mean_results_moment.append(np.array(results_m).mean())\n",
    "    mean_results_rmsprop.append(np.array(results_r).mean())\n",
    "\n",
    "plt.plot(epochs_range, mean_results_base, color='green', marker='o', linestyle='dashed', linewidth=2, label='base')\n",
    "plt.plot(epochs_range, mean_results_moment, color='red', marker='o', linestyle='dashed', linewidth=2, label='moment')\n",
    "plt.plot(epochs_range, mean_results_rmsprop, color='blue', marker='o', linestyle='dashed', linewidth=2, label='rmsprop')\n",
    "plt.legend()\n",
    "plt.show()"
   ]
  },
  {
   "cell_type": "markdown",
   "metadata": {},
   "source": [
    "### Wnioski\n",
    "W tym przykładzie nie ma tak dużej przewagi jakiejkolwiek z sieci. Widać, że najszybciej zbiega `moment` a najwolniej `rmsprop`"
   ]
  }
 ],
 "metadata": {
  "kernelspec": {
   "display_name": "Python 3",
   "language": "python",
   "name": "python3"
  },
  "language_info": {
   "codemirror_mode": {
    "name": "ipython",
    "version": 3
   },
   "file_extension": ".py",
   "mimetype": "text/x-python",
   "name": "python",
   "nbconvert_exporter": "python",
   "pygments_lexer": "ipython3",
   "version": "3.8.3"
  }
 },
 "nbformat": 4,
 "nbformat_minor": 4
}
